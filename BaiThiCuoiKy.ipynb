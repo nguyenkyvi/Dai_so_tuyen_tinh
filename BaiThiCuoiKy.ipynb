{
 "cells": [
  {
   "cell_type": "markdown",
   "id": "5809636a",
   "metadata": {},
   "source": [
    "Đề Thi Thực Hành Đại Số Tuyến Tính\n"
   ]
  },
  {
   "cell_type": "markdown",
   "id": "fbee4352",
   "metadata": {},
   "source": [
    "#       Câu 1: Phép toán cơ bản trên vector và ma trận"
   ]
  },
  {
   "cell_type": "code",
   "execution_count": 1,
   "id": "7569adbe",
   "metadata": {},
   "outputs": [
    {
     "name": "stdout",
     "output_type": "stream",
     "text": [
      "A + B = [2 3 1 6]\n",
      "2A + 3B = [ 3 11  2 14]\n",
      "Tích vô hướng A·B = -5\n",
      "Góc giữa A và B (độ) = 99.594\n",
      "C · C^T =\n",
      " [[14 -8 13]\n",
      " [-8 21 -2]\n",
      " [13 -2 29]]\n"
     ]
    }
   ],
   "source": [
    "import numpy as np\n",
    "from numpy.linalg import det, matrix_rank, inv, norm, eig\n",
    "from math import acos, degrees\n",
    "A = np.array([3, -2, 1, 4])\n",
    "B = np.array([-1, 5, 0, 2])\n",
    "\n",
    "tong_AB = A + B\n",
    "tich_2A_3B = 2*A + 3*B\n",
    "\n",
    "print(\"A + B =\", tong_AB)\n",
    "print(\"2A + 3B =\", tich_2A_3B)\n",
    "\n",
    "# Câu 1b\n",
    "tich_vo_huong = np.dot(A, B)\n",
    "cos_theta = tich_vo_huong / (norm(A) * norm(B))\n",
    "goc_do = degrees(acos(cos_theta))\n",
    "\n",
    "print(\"Tích vô hướng A·B =\", tich_vo_huong)\n",
    "print(\"Góc giữa A và B (độ) =\", round(goc_do, 3))\n",
    "\n",
    "# Câu 1c\n",
    "C = np.array([\n",
    "    [2, -1, 3],\n",
    "    [1, 4, -2],\n",
    "    [0, 2, 5]\n",
    "])\n",
    "\n",
    "CCT = C @ C.T\n",
    "print(\"C · C^T =\\n\", CCT)\n"
   ]
  },
  {
   "cell_type": "markdown",
   "id": "a2fac641",
   "metadata": {},
   "source": [
    "# Câu 2: Nhân ma trận, định thức và hạng"
   ]
  },
  {
   "cell_type": "code",
   "execution_count": 2,
   "id": "afced931",
   "metadata": {},
   "outputs": [
    {
     "name": "stdout",
     "output_type": "stream",
     "text": [
      "M x N =\n",
      " [[ -2  13   0  -5]\n",
      " [  2   0  12  30]\n",
      " [ 17   7  28 -14]\n",
      " [-13   3   5  15]]\n",
      "det(M) = 409.00000000000017\n",
      "Rank của N = 4\n"
     ]
    }
   ],
   "source": [
    "\n",
    "import numpy as np\n",
    "from numpy.linalg import det, matrix_rank, inv, norm, eig\n",
    "from math import acos, degrees\n",
    "M= np.array([\n",
    "    [2, -1, 3, 0],\n",
    "    [1, 4, -2, 5],\n",
    "    [0, 2, 6, -3],\n",
    "    [-1, 0, 1, 4]\n",
    "])\n",
    "\n",
    "N = np.array([\n",
    "    [1, 3, -2, 0],\n",
    "    [4, -1, 5, 2],\n",
    "    [0, 2, 3, -1],\n",
    "    [-3, 1, 0, 4]\n",
    "])\n",
    "\n",
    "# Câu 2a\n",
    "M_dot_N = M @ N\n",
    "print(\"M x N =\\n\", M_dot_N)\n",
    "\n",
    "# Câu 2b\n",
    "det_M = det(M)\n",
    "print(\"det(M) =\", det_M)\n",
    "\n",
    "# Câu 2c\n",
    "rank_N = matrix_rank(N)\n",
    "print(\"Rank của N =\", rank_N)\n"
   ]
  },
  {
   "cell_type": "markdown",
   "id": "a847ded2",
   "metadata": {},
   "source": [
    "# Câu 3: Nghịch đảo và giải hệ"
   ]
  },
  {
   "cell_type": "code",
   "execution_count": 3,
   "id": "286e9e58",
   "metadata": {},
   "outputs": [
    {
     "name": "stdout",
     "output_type": "stream",
     "text": [
      "Ma trận nghịch đảo của P:\n",
      " [[ 0.5         0.1         0.1        -0.3       ]\n",
      " [-0.14285714  0.2         0.05714286  0.11428571]\n",
      " [-0.03571429 -0.05        0.16428571  0.07857143]\n",
      " [-0.32142857 -0.05       -0.12142857  0.50714286]]\n",
      "Nghiệm hệ phương trình là: [2.         1.71428571 0.42857143 0.85714286]\n",
      "Kiểm tra P·x = b:\n",
      " [6. 8. 3. 7.]\n"
     ]
    }
   ],
   "source": [
    "import numpy as np\n",
    "from numpy.linalg import det, matrix_rank, inv, norm, eig\n",
    "from math import acos, degrees\n",
    "P = np.array([\n",
    "    [3, -1, 0, 2],\n",
    "    [1, 4, -2, 0],\n",
    "    [0, 1, 5, -1],\n",
    "    [2, 0, 1, 3]\n",
    "])\n",
    "\n",
    "b = np.array([6, 8, 3, 7])\n",
    "\n",
    "# Câu 3a\n",
    "try:\n",
    "    P_inv = inv(P)\n",
    "    print(\"Ma trận nghịch đảo của P:\\n\", P_inv)\n",
    "except np.linalg.LinAlgError:\n",
    "    print(\"Ma trận P không khả nghịch.\")\n",
    "\n",
    "# Câu 3b\n",
    "x = P_inv @ b\n",
    "print(\"Nghiệm hệ phương trình là:\", x)\n",
    "\n",
    "# Câu 3c\n",
    "check = P @ x\n",
    "print(\"Kiểm tra P·x = b:\\n\", check)\n"
   ]
  },
  {
   "cell_type": "markdown",
   "id": "a73e0d8a",
   "metadata": {},
   "source": [
    "# Câu 4: Giá trị riêng, vector riêng, chuẩn hóa"
   ]
  },
  {
   "cell_type": "code",
   "execution_count": 4,
   "id": "294f9232",
   "metadata": {},
   "outputs": [
    {
     "name": "stdout",
     "output_type": "stream",
     "text": [
      "Giá trị riêng: [6.3553014+0.j         2.8223493+1.07730381j 2.8223493-1.07730381j]\n",
      "Vector riêng (cột):\n",
      " [[ 0.74846013+0.j         -0.37423006+0.34234215j -0.37423006-0.34234215j]\n",
      " [-0.18941773+0.j          0.09470887+0.57433055j  0.09470887-0.57433055j]\n",
      " [ 0.63555359+0.j          0.63555359+0.j          0.63555359-0.j        ]]\n",
      "Vector riêng chuẩn hóa:\n",
      " [[ 0.74846013+0.j         -0.37423006+0.34234215j -0.37423006-0.34234215j]\n",
      " [-0.18941773+0.j          0.09470887+0.57433055j  0.09470887-0.57433055j]\n",
      " [ 0.63555359+0.j          0.63555359+0.j          0.63555359-0.j        ]]\n"
     ]
    }
   ],
   "source": [
    "\n",
    "import numpy as np\n",
    "from numpy.linalg import det, matrix_rank, inv, norm, eig\n",
    "from math import acos, degrees\n",
    "Q = np.array([\n",
    "    [5, -2, 1],\n",
    "    [0, 3, -1],\n",
    "    [2, 0, 4]\n",
    "])\n",
    "\n",
    "# Câu 4a\n",
    "eigenvalues, eigenvectors = eig(Q)\n",
    "print(\"Giá trị riêng:\", eigenvalues)\n",
    "\n",
    "# Câu 4b\n",
    "print(\"Vector riêng (cột):\\n\", eigenvectors)\n",
    "\n",
    "# Câu 4c - chuẩn hóa\n",
    "normalized_vectors = eigenvectors / np.linalg.norm(eigenvectors, axis=0)\n",
    "print(\"Vector riêng chuẩn hóa:\\n\", normalized_vectors)"
   ]
  },
  {
   "cell_type": "markdown",
   "id": "1d4ea563",
   "metadata": {},
   "source": [
    "# Câu 5: Ứng dụng thực tế"
   ]
  },
  {
   "cell_type": "code",
   "execution_count": 5,
   "id": "24f64599",
   "metadata": {},
   "outputs": [
    {
     "name": "stdout",
     "output_type": "stream",
     "text": [
      "Nghiệm x = [2.78823529 1.52941176 1.18823529]\n",
      "R khả nghịch. Ma trận nghịch đảo:\n",
      " [[ 0.22352941  0.10588235 -0.04705882]\n",
      " [-0.05882353  0.23529412  0.11764706]\n",
      " [ 0.02352941 -0.09411765  0.15294118]]\n",
      "Nghiệm từ nghịch đảo: [2.78823529 1.52941176 1.18823529]\n",
      "Chuẩn Frobenius của R: 8.0\n"
     ]
    }
   ],
   "source": [
    "import numpy as np\n",
    "from numpy.linalg import det, matrix_rank, inv, norm, eig\n",
    "from math import acos, degrees\n",
    "R = np.array([\n",
    "    [4, -1, 2],\n",
    "    [1, 3, -2],\n",
    "    [0, 2, 5]\n",
    "])\n",
    "\n",
    "b = np.array([12, 5, 9])\n",
    "\n",
    "# Câu 5a\n",
    "x = np.linalg.solve(R, b)\n",
    "print(\"Nghiệm x =\", x)\n",
    "\n",
    "# Câu 5b\n",
    "try:\n",
    "    R_inv = inv(R)\n",
    "    x2 = R_inv @ b\n",
    "    print(\"R khả nghịch. Ma trận nghịch đảo:\\n\", R_inv)\n",
    "    print(\"Nghiệm từ nghịch đảo:\", x2)\n",
    "except np.linalg.LinAlgError:\n",
    "    print(\"R không khả nghịch.\")\n",
    "\n",
    "# Câu 5c\n",
    "fro_norm = norm(R, 'fro')\n",
    "print(\"Chuẩn Frobenius của R:\", fro_norm)\n"
   ]
  }
 ],
 "metadata": {
  "kernelspec": {
   "display_name": "Python 3",
   "language": "python",
   "name": "python3"
  },
  "language_info": {
   "codemirror_mode": {
    "name": "ipython",
    "version": 3
   },
   "file_extension": ".py",
   "mimetype": "text/x-python",
   "name": "python",
   "nbconvert_exporter": "python",
   "pygments_lexer": "ipython3",
   "version": "3.10.11"
  }
 },
 "nbformat": 4,
 "nbformat_minor": 5
}
