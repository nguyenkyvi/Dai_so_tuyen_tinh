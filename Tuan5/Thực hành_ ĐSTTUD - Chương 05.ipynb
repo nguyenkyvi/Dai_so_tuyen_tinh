{
 "cells": [
  {
   "cell_type": "code",
   "execution_count": null,
   "id": "3903b8e1",
   "metadata": {},
   "outputs": [
    {
     "name": "stdout",
     "output_type": "stream",
     "text": [
      "[[1 2]\n",
      " [3 4]]\n",
      "1 2\n",
      "[[ 9]\n",
      " [21]]\n",
      "-----\n",
      "[[1 2]\n",
      " [3 4]]\n",
      "1 2\n",
      "[[21]\n",
      " [49]]\n",
      "-----\n",
      "[[1 2]\n",
      " [3 4]]\n",
      "1 2\n",
      "[[ 45]\n",
      " [105]]\n",
      "-----\n",
      "[[1 2]\n",
      " [3 4]]\n",
      "1 2\n",
      "[[3]\n",
      " [7]]\n",
      "-----\n",
      "[[1 2]\n",
      " [3 4]]\n",
      "1 2\n",
      "[[ 876]\n",
      " [2044]]\n",
      "-----\n",
      "[[1 2]\n",
      " [3 4]]\n",
      "1 2\n",
      "[[3]\n",
      " [7]]\n",
      "-----\n",
      "[[1 2]\n",
      " [3 4]]\n",
      "1 2\n",
      "[[3]\n",
      " [7]]\n",
      "-----\n",
      "[[1 2]\n",
      " [3 4]]\n",
      "1 2\n",
      "[[ 9]\n",
      " [21]]\n",
      "-----\n",
      "[[1 2]\n",
      " [3 4]]\n",
      "1 2\n",
      "[[3]\n",
      " [7]]\n",
      "-----\n",
      "[[1 2]\n",
      " [3 4]]\n",
      "1 2\n",
      "[[3]\n",
      " [7]]\n",
      "-----\n",
      "[[1 2]\n",
      " [3 4]]\n",
      "1 2\n",
      "[[3]\n",
      " [7]]\n",
      "-----\n",
      "[[1 2]\n",
      " [3 4]]\n",
      "1 2\n",
      "[[42]\n",
      " [98]]\n",
      "-----\n",
      "[[1 2]\n",
      " [3 4]]\n",
      "1 2\n",
      "[[ 6]\n",
      " [14]]\n",
      "-----\n"
     ]
    }
   ],
   "source": [
    "import numpy as np\n",
    "\n",
    "C = [3, 7, 15, 1, 292, 1, 1, 3, 1, 1, 1, 14, 2] # thử chạy nhiều lần với dãy C khác nhau!\n",
    "\n",
    "# Sửa lỗi: Thay np.mat bằng np.array\n",
    "M = np.array([[1,2],[3,4]]) # khởi tạo ma trận 2x2\n",
    "\n",
    "for i in range(len(C)):\n",
    "    # c1 cũng nên là một mảng NumPy để có thể thực hiện phép nhân ma trận\n",
    "    # Dòng này đã đúng nếu bạn muốn c1 là một vector cột 2x1\n",
    "    c1 = np.array([[C[i]], [C[i]]]) \n",
    "    \n",
    "    # Phép nhân ma trận giữa M (2x2) và c1 (2x1)\n",
    "    cl = M.dot(c1) \n",
    "    \n",
    "    print(M)\n",
    "    print(M[0,0],M[0,1])\n",
    "    print(cl\n",
    "    print(\"-----\") # Thêm dòng này để dễ đọc kết quả cho mỗi vòng lặp"
   ]
  },
  {
   "cell_type": "code",
   "execution_count": 9,
   "id": "eabbd7c0",
   "metadata": {},
   "outputs": [
    {
     "name": "stdout",
     "output_type": "stream",
     "text": [
      "[[-0.2]\n",
      " [ 1.2]]\n"
     ]
    }
   ],
   "source": [
    "import numpy as np\n",
    "\n",
    "# Nhập X\n",
    "X = np.array([\n",
    "    [1, 1],\n",
    "    [1, 2],\n",
    "    [1, 3],\n",
    "    [1, 4],\n",
    "    [1, 5]\n",
    "])\n",
    "\n",
    "# Nhập Y\n",
    "Y = np.array([\n",
    "    [1],\n",
    "    [2],\n",
    "    [4],\n",
    "    [4],\n",
    "    [6]\n",
    "])\n",
    "\n",
    "# Tính XT (X chuyển vị)\n",
    "XT = X.T\n",
    "\n",
    "# --- Các bước tiếp theo để tính A (theo yêu cầu của tài liệu) ---\n",
    "# Tính A1 = (XTX)^-1\n",
    "A1 = np.linalg.inv(np.dot(XT, X))\n",
    "\n",
    "# Tính A2 = XTY\n",
    "A2 = np.dot(XT, Y)\n",
    "\n",
    "# Tính A = A1.A2\n",
    "A = np.dot(A1, A2)\n",
    "\n",
    "# Dòng này sẽ in ra kết quả của ma trận A\n",
    "print(A)"
   ]
  },
  {
   "cell_type": "code",
   "execution_count": 11,
   "id": "5c71897a",
   "metadata": {},
   "outputs": [
    {
     "name": "stdout",
     "output_type": "stream",
     "text": [
      "Giá trị A1 ( (X^T X)^-1 ):\n",
      " [[ 1.1 -0.3]\n",
      " [-0.3  0.1]]\n",
      "Giá trị A2 ( X^T Y ):\n",
      " [[17]\n",
      " [63]]\n"
     ]
    }
   ],
   "source": [
    "# Giả sử X và XT (X.T) đã được định nghĩa từ các bước trước đó\n",
    "# X = np.array([[1, 1], [1, 2], [1, 3], [1, 4], [1, 5]])\n",
    "# Y = np.array([[1], [2], [4], [4], [6]])\n",
    "# XT = X.T\n",
    "\n",
    "# Tính A1 = (XTX)^-1\n",
    "A1 = np.linalg.inv(np.dot(XT, X))\n",
    "\n",
    "# Tính A2 = XTY\n",
    "A2 = np.dot(XT, Y)\n",
    "\n",
    "# In ra để kiểm tra (không bắt buộc nếu bạn chỉ cần gán giá trị)\n",
    "print(\"Giá trị A1 ( (X^T X)^-1 ):\\n\", A1)\n",
    "print(\"Giá trị A2 ( X^T Y ):\\n\", A2)"
   ]
  },
  {
   "cell_type": "code",
   "execution_count": 12,
   "id": "1dfb275e",
   "metadata": {},
   "outputs": [
    {
     "name": "stdout",
     "output_type": "stream",
     "text": [
      "Giá trị A cuối cùng:\n",
      " [[-0.2]\n",
      " [ 1.2]]\n"
     ]
    }
   ],
   "source": [
    "# Giả sử A1 và A2 đã được tính từ các bước trước đó\n",
    "# A1 = np.linalg.inv(np.dot(XT, X))\n",
    "# A2 = np.dot(XT, Y)\n",
    "\n",
    "# Tính giá trị A = A1.A2\n",
    "A = A1.dot(A2)\n",
    "\n",
    "# (Tùy chọn) In ra A để kiểm tra kết quả\n",
    "print(\"Giá trị A cuối cùng:\\n\", A)"
   ]
  },
  {
   "cell_type": "code",
   "execution_count": 13,
   "id": "a2dc72fd",
   "metadata": {},
   "outputs": [
    {
     "name": "stdout",
     "output_type": "stream",
     "text": [
      "Hệ số A (a0, a1):\n",
      " [[10.2]\n",
      " [-1.9]]\n",
      "Giá trị dự đoán Y':\n",
      " [[10.2]\n",
      " [ 8.3]\n",
      " [ 6.4]\n",
      " [ 4.5]\n",
      " [ 2.6]]\n",
      "Tổng sai số bình phương: 1.1\n"
     ]
    }
   ],
   "source": [
    "# Bài tập chương 5 - Phân tích hồi quy tuyến tính bằng bình phương cực tiểu\n",
    "\n",
    "import numpy as np\n",
    "X = np.array([\n",
    "    [1, 0],\n",
    "    [1, 1],\n",
    "    [1, 2],\n",
    "    [1, 3],\n",
    "    [1, 4]\n",
    "])\n",
    "Y = np.array([\n",
    "    [10],\n",
    "    [8],\n",
    "    [7],\n",
    "    [5],\n",
    "    [2]\n",
    "])\n",
    "XT = X.T\n",
    "A1 = np.linalg.inv(XT @ X)\n",
    "A2 = XT @ Y\n",
    "A = A1 @ A2\n",
    "print(\"Hệ số A (a0, a1):\\n\", A)\n",
    "\n",
    "# Tính giá trị dự đoán và tổng sai số bình phương\n",
    "Y_pred = X @ A\n",
    "errors = (Y_pred - Y) ** 2\n",
    "total_squared_error = np.sum(errors)\n",
    "\n",
    "print(\"Giá trị dự đoán Y':\\n\", Y_pred)\n",
    "print(\"Tổng sai số bình phương:\", total_squared_error)"
   ]
  }
 ],
 "metadata": {
  "kernelspec": {
   "display_name": "Python 3",
   "language": "python",
   "name": "python3"
  },
  "language_info": {
   "codemirror_mode": {
    "name": "ipython",
    "version": 3
   },
   "file_extension": ".py",
   "mimetype": "text/x-python",
   "name": "python",
   "nbconvert_exporter": "python",
   "pygments_lexer": "ipython3",
   "version": "3.10.11"
  }
 },
 "nbformat": 4,
 "nbformat_minor": 5
}
