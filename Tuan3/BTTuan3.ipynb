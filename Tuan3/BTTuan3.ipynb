{
 "cells": [
  {
   "cell_type": "code",
   "execution_count": 40,
   "id": "fee27786",
   "metadata": {},
   "outputs": [
    {
     "name": "stdout",
     "output_type": "stream",
     "text": [
      "a = [1 2 3]\n"
     ]
    }
   ],
   "source": [
    "# CHƯƠNG 3: MA TRẬN VÀ HỆ PHƯƠNG TRÌNH TUYẾN TÍNH\n",
    "# 1. Tóm tắt một số phép xử lý ma trận của NumPy và Scipy\n",
    "# 1.1. Một số phép xử lý ma trận của NumPy và Scipy\n",
    "\n",
    "import numpy as np\n",
    "from scipy import linalg\n",
    "\n",
    "a = np.array([1,2,3])\n",
    "a = np.array([1, 2, 3])\n",
    "print(f\"a = {a}\")"
   ]
  },
  {
   "cell_type": "code",
   "execution_count": 41,
   "id": "d50c03f6",
   "metadata": {},
   "outputs": [
    {
     "name": "stdout",
     "output_type": "stream",
     "text": [
      "b (complex) = \n",
      "[[1.+9.j 0.+2.j 0.+3.j]\n",
      " [0.+4.j 0.+5.j 0.+6.j]]\n"
     ]
    }
   ],
   "source": [
    "b = np.array([(1+9j, 2j, 3j), (4j, 5j, 6j)]) # số phức\n",
    "b = np.array([(1 + 9j, 2j, 3j), (4j, 5j, 6j)])\n",
    "print(f\"b (complex) = \\n{b}\")"
   ]
  },
  {
   "cell_type": "code",
   "execution_count": 42,
   "id": "2c6a57d8",
   "metadata": {},
   "outputs": [
    {
     "name": "stdout",
     "output_type": "stream",
     "text": [
      "c (real) = \n",
      "[[[ 0.5  1.5 10. ]\n",
      "  [ 3.   2.   1. ]]\n",
      "\n",
      " [[ 6.   5.   4. ]\n",
      "  [ 7.   8.   9. ]]]\n"
     ]
    }
   ],
   "source": [
    "c = np.array([[ (0.5, 1.5, 10), (3,2,1)], [(6,5,4), (7,8,9)]]) # ma trận số thực\n",
    "c = np.array([[(0.5, 1.5, 10), (3, 2, 1)], [(6, 5, 4), (7, 8, 9)]])\n",
    "print(f\"c (real) = \\n{c}\")"
   ]
  },
  {
   "cell_type": "code",
   "execution_count": 43,
   "id": "54a3d848",
   "metadata": {},
   "outputs": [
    {
     "name": "stdout",
     "output_type": "stream",
     "text": [
      "A (np.matrix from random) = \n",
      "[[0.76405671 0.76516681]\n",
      " [0.85995916 0.90370259]]\n"
     ]
    }
   ],
   "source": [
    "A = np.matrix(np.random.random( (2,2)))\n",
    "A = np.matrix(np.random.random((2, 2)))\n",
    "print(f\"A (np.matrix from random) = \\n{A}\")"
   ]
  },
  {
   "cell_type": "code",
   "execution_count": 44,
   "id": "46fb4215",
   "metadata": {},
   "outputs": [
    {
     "name": "stdout",
     "output_type": "stream",
     "text": [
      "B (np.asmatrix from b) = \n",
      "[[1.+9.j 0.+2.j 0.+3.j]\n",
      " [0.+4.j 0.+5.j 0.+6.j]]\n"
     ]
    }
   ],
   "source": [
    "B = np.asmatrix(b) # Chuyển b thành dạng ma trận [cite: 133]\n",
    "B = np.asmatrix(b)\n",
    "print(f\"B (np.asmatrix from b) = \\n{B}\")"
   ]
  },
  {
   "cell_type": "code",
   "execution_count": 45,
   "id": "8449de32",
   "metadata": {},
   "outputs": [
    {
     "name": "stdout",
     "output_type": "stream",
     "text": [
      "C (np.array from random 10x5) = \n",
      "[[0.69631842 0.84845778 0.05515712 0.66808741 0.04043449]\n",
      " [0.64628381 0.22394441 0.00736627 0.08324603 0.5835591 ]\n",
      " [0.66742127 0.0249724  0.6111963  0.21207707 0.11606519]\n",
      " [0.26599201 0.0573792  0.18063944 0.56552252 0.91262514]\n",
      " [0.42083209 0.05167091 0.33525685 0.18968055 0.92502604]\n",
      " [0.78588985 0.48028676 0.62017587 0.3712906  0.61314416]\n",
      " [0.4563794  0.81856199 0.19227619 0.24660497 0.67426619]\n",
      " [0.77295191 0.23096102 0.14330911 0.51997893 0.37918857]\n",
      " [0.2805491  0.83543876 0.5481691  0.76466266 0.2546908 ]\n",
      " [0.06869911 0.56969498 0.19135885 0.93404678 0.02200303]]\n"
     ]
    }
   ],
   "source": [
    "import numpy as np\n",
    "\n",
    "C = np.random.random((10, 5))\n",
    "print(f\"C (np.array from random 10x5) = \\n{C}\")\n"
   ]
  },
  {
   "cell_type": "code",
   "execution_count": 46,
   "id": "ca1b02ca",
   "metadata": {},
   "outputs": [
    {
     "name": "stdout",
     "output_type": "stream",
     "text": [
      "Ma trận D:\n",
      "[[4 3]\n",
      " [2 6]]\n"
     ]
    }
   ],
   "source": [
    "D = np.asmatrix([[4, 3], [2, 6]])\n",
    "\n",
    "print(\"Ma trận D:\")\n",
    "print(D)"
   ]
  },
  {
   "cell_type": "code",
   "execution_count": 47,
   "id": "cd523fdd",
   "metadata": {},
   "outputs": [
    {
     "name": "stdout",
     "output_type": "stream",
     "text": [
      "\n",
      "Ma trận F với k=1:\n",
      "[[0. 1. 0.]\n",
      " [0. 0. 1.]\n",
      " [0. 0. 0.]]\n"
     ]
    }
   ],
   "source": [
    "F_k1 = np.eye(3, k=1)\n",
    "print(\"\\nMa trận F với k=1:\")\n",
    "print(F_k1)"
   ]
  },
  {
   "cell_type": "code",
   "execution_count": 48,
   "id": "2274f45b",
   "metadata": {},
   "outputs": [
    {
     "name": "stdout",
     "output_type": "stream",
     "text": [
      "\n",
      "Ma trận F với k=0:\n",
      "[[1. 0. 0.]\n",
      " [0. 1. 0.]\n",
      " [0. 0. 1.]]\n"
     ]
    }
   ],
   "source": [
    "F_k0 = np.eye(3, k=0)\n",
    "print(\"\\nMa trận F với k=0:\")\n",
    "print(F_k0)"
   ]
  },
  {
   "cell_type": "code",
   "execution_count": 49,
   "id": "b57d6683",
   "metadata": {},
   "outputs": [
    {
     "name": "stdout",
     "output_type": "stream",
     "text": [
      "\n",
      "Ma trận F với k=-1:\n",
      "[[0. 0. 0.]\n",
      " [1. 0. 0.]\n",
      " [0. 1. 0.]]\n"
     ]
    }
   ],
   "source": [
    "F_k_1 = np.eye(3, k=-1)\n",
    "print(\"\\nMa trận F với k=-1:\")\n",
    "print(F_k_1)"
   ]
  },
  {
   "cell_type": "code",
   "execution_count": 50,
   "id": "da596e7e",
   "metadata": {},
   "outputs": [
    {
     "name": "stdout",
     "output_type": "stream",
     "text": [
      "Hạng ma trận A: 2\n",
      "Nghịch đảo của A:\n",
      " [[ 0.6 -0.7]\n",
      " [-0.2  0.4]]\n",
      "Định thức của A: 10.000000000000002\n",
      "Chuyển vị A.T:\n",
      " [[4 2]\n",
      " [7 6]]\n",
      "Chuyển vị liên hợp A.H:\n",
      " [[4 2]\n",
      " [7 6]]\n"
     ]
    }
   ],
   "source": [
    "#  Các phép xử lý đơn giản\n",
    "\n",
    "import numpy as np\n",
    "from numpy.linalg import matrix_rank, inv, det\n",
    "\n",
    "# Tạo ma trận A\n",
    "A = np.array([[4, 7],\n",
    "              [2, 6]])\n",
    "\n",
    "# Các phép xử lý\n",
    "print(\"Hạng ma trận A:\", matrix_rank(A))\n",
    "print(\"Nghịch đảo của A:\\n\", inv(A))\n",
    "print(\"Định thức của A:\", det(A))\n",
    "print(\"Chuyển vị A.T:\\n\", A.T)\n",
    "print(\"Chuyển vị liên hợp A.H:\\n\", A.conj().T)\n"
   ]
  },
  {
   "cell_type": "code",
   "execution_count": 51,
   "id": "2db1e6b0",
   "metadata": {},
   "outputs": [
    {
     "name": "stdout",
     "output_type": "stream",
     "text": [
      "5\n"
     ]
    }
   ],
   "source": [
    "\n",
    "print(np.linalg.matrix_rank(C))"
   ]
  },
  {
   "cell_type": "code",
   "execution_count": 52,
   "id": "70e2e74d",
   "metadata": {},
   "outputs": [
    {
     "name": "stdout",
     "output_type": "stream",
     "text": [
      "\n",
      "Định thức của ma trận A: 9.999999999999998\n"
     ]
    }
   ],
   "source": [
    "det_A = linalg.det(A)\n",
    "print(f\"\\nĐịnh thức của ma trận A: {det_A}\")"
   ]
  },
  {
   "cell_type": "code",
   "execution_count": 53,
   "id": "0d75f01e",
   "metadata": {},
   "outputs": [
    {
     "name": "stdout",
     "output_type": "stream",
     "text": [
      "\n",
      "Ma trận chuyển vị của A (A.T):\n",
      "[[4 2]\n",
      " [7 6]]\n"
     ]
    }
   ],
   "source": [
    "A_T = A.T  # chuyển vị (dòng <-> cột)\n",
    "print(f\"\\nMa trận chuyển vị của A (A.T):\\n{A_T}\")"
   ]
  },
  {
   "cell_type": "code",
   "execution_count": 54,
   "id": "2ffdb3b9",
   "metadata": {},
   "outputs": [
    {
     "name": "stdout",
     "output_type": "stream",
     "text": [
      "Ma trận chuyển vị liên hợp của A (A.H):\n",
      "[[0.24203926-0.20725706j 0.19553966-0.54214792j]\n",
      " [0.38324355-0.54340904j 0.36039386-0.33463286j]]\n"
     ]
    }
   ],
   "source": [
    "import numpy as np\n",
    "\n",
    "# Khởi tạo A là numpy.matrix\n",
    "A = np.matrix(np.random.random((2, 2)) + 1j * np.random.random((2, 2))) # Example with complex numbers for .H to be meaningful\n",
    "\n",
    "# Chuyển vị liên hợp\n",
    "A_H = A.H\n",
    "print(f\"Ma trận chuyển vị liên hợp của A (A.H):\\n{A_H}\")"
   ]
  },
  {
   "cell_type": "code",
   "execution_count": 55,
   "id": "c68d3d02",
   "metadata": {},
   "outputs": [
    {
     "name": "stdout",
     "output_type": "stream",
     "text": [
      "\n",
      "Tổng của A và D (np.add(A, D)):\n",
      "[[4.24203926+0.20725706j 3.38324355+0.54340904j]\n",
      " [2.19553966+0.54214792j 6.36039386+0.33463286j]]\n"
     ]
    }
   ],
   "source": [
    "# Cộng ma trận\n",
    "add_AD = np.add(A, D)\n",
    "print(f\"\\nTổng của A và D (np.add(A, D)):\\n{add_AD}\")"
   ]
  },
  {
   "cell_type": "code",
   "execution_count": 56,
   "id": "ab02fa66",
   "metadata": {},
   "outputs": [
    {
     "name": "stdout",
     "output_type": "stream",
     "text": [
      "\n",
      "Hiệu của A và D (np.subtract(A, D)):\n",
      "[[-3.75796074+0.20725706j -2.61675645+0.54340904j]\n",
      " [-1.80446034+0.54214792j -5.63960614+0.33463286j]]\n"
     ]
    }
   ],
   "source": [
    "# Trừ ma trận\n",
    "subtract_AD = np.subtract(A, D)\n",
    "print(f\"\\nHiệu của A và D (np.subtract(A, D)):\\n{subtract_AD}\")"
   ]
  },
  {
   "cell_type": "code",
   "execution_count": 57,
   "id": "25655e8f",
   "metadata": {},
   "outputs": [
    {
     "name": "stdout",
     "output_type": "stream",
     "text": [
      "\n",
      "Chia ma trận A cho D (np.divide(A, D)):\n",
      "[[0.06050982+0.05181426j 0.12774785+0.18113635j]\n",
      " [0.09776983+0.27107396j 0.06006564+0.05577214j]]\n"
     ]
    }
   ],
   "source": [
    "# Chia ma trận (phép chia phần tử)\n",
    "divide_AD = np.divide(A, D)\n",
    "print(f\"\\nChia ma trận A cho D (np.divide(A, D)):\\n{divide_AD}\")"
   ]
  },
  {
   "cell_type": "code",
   "execution_count": 58,
   "id": "e5abdfcd",
   "metadata": {},
   "outputs": [
    {
     "name": "stdout",
     "output_type": "stream",
     "text": [
      "\n",
      "Tích của A và D (A @ D):\n",
      "[[1.73464415+1.91584632j 3.02557909+3.88222544j]\n",
      " [1.50294635+2.83785739j 2.74898215+3.63424092j]]\n"
     ]
    }
   ],
   "source": [
    "# Nhân ma trận (Phép nhân ma trận thực sự)\n",
    "multiply_AD_at = A @ D  # phiên bản Python 3.x\n",
    "print(f\"\\nTích của A và D (A @ D):\\n{multiply_AD_at}\")"
   ]
  },
  {
   "cell_type": "code",
   "execution_count": 59,
   "id": "0a9cdfef",
   "metadata": {},
   "outputs": [
    {
     "name": "stdout",
     "output_type": "stream",
     "text": [
      "\n",
      "Tích phần tử của D và A (np.multiply(D, A)):\n",
      "[[0.96815704+0.82902823j 1.14973065+1.63022713j]\n",
      " [0.39107931+1.08429584j 2.16236318+2.00779717j]]\n"
     ]
    }
   ],
   "source": [
    "# Nhân ma trận (phép nhân phần tử)\n",
    "multiply_DA = np.multiply(D, A)\n",
    "print(f\"\\nTích phần tử của D và A (np.multiply(D, A)):\\n{multiply_DA}\") "
   ]
  },
  {
   "cell_type": "code",
   "execution_count": 60,
   "id": "9cc85a23",
   "metadata": {},
   "outputs": [
    {
     "name": "stdout",
     "output_type": "stream",
     "text": [
      "\n",
      "Tích chấm của A và D (np.dot(A, D)):\n",
      "[[1.73464415+1.91584632j 3.02557909+3.88222544j]\n",
      " [1.50294635+2.83785739j 2.74898215+3.63424092j]]\n"
     ]
    }
   ],
   "source": [
    "# Tích chấm (dot product)\n",
    "dot_AD = np.dot(A, D)\n",
    "print(f\"\\nTích chấm của A và D (np.dot(A, D)):\\n{dot_AD}\")"
   ]
  },
  {
   "cell_type": "code",
   "execution_count": 61,
   "id": "5ca315e0",
   "metadata": {},
   "outputs": [
    {
     "name": "stdout",
     "output_type": "stream",
     "text": [
      "\n",
      "Vector dot product của A và D (np.vdot(A, D)):\n",
      "[[0.96815704-0.82902823j]]\n"
     ]
    }
   ],
   "source": [
    "# np.vdot(A, D) - dot product vector (cần làm phẳng ma trận)\n",
    "# vdot thực hiện dot product của các mảng đã làm phẳng.\n",
    "vdot_AD = np.vdot(A, D)\n",
    "print(f\"\\nVector dot product của A và D (np.vdot(A, D)):\\n{vdot_AD}\")   "
   ]
  },
  {
   "cell_type": "code",
   "execution_count": 62,
   "id": "4e36e423",
   "metadata": {},
   "outputs": [
    {
     "name": "stdout",
     "output_type": "stream",
     "text": [
      "\n",
      "Ma trận lũy thừa của A (linalg.expm(A)):\n",
      "[[1.05335611+0.41950951j 0.24690117+0.83066992j]\n",
      " [0.01563844+0.75092665j 1.1464505 +0.62610009j]]\n"
     ]
    }
   ],
   "source": [
    "# Hàm lũy thừa và logarith ma trận (linalg.expm và linalg.logm)\n",
    "expm_A = linalg.expm(A)\n",
    "print(f\"\\nMa trận lũy thừa của A (linalg.expm(A)):\\n{expm_A}\")"
   ]
  },
  {
   "cell_type": "code",
   "execution_count": 63,
   "id": "e287c160",
   "metadata": {},
   "outputs": [
    {
     "name": "stdout",
     "output_type": "stream",
     "text": [
      "\n",
      "Ma trận logarit của A (linalg.logm(A)):\n",
      "[[-0.75797164-0.43757982j  0.84707918+1.22297975j]\n",
      " [ 0.42717391+1.21659734j -0.49560647-0.15037064j]]\n"
     ]
    }
   ],
   "source": [
    "logm_A = linalg.logm(A)\n",
    "print(f\"\\nMa trận logarit của A (linalg.logm(A)):\\n{logm_A}\")"
   ]
  },
  {
   "cell_type": "code",
   "execution_count": 64,
   "id": "dc97ad72",
   "metadata": {},
   "outputs": [
    {
     "name": "stdout",
     "output_type": "stream",
     "text": [
      "Ma trận nhu cầu (P):\n",
      " [[6 5 3 1]\n",
      " [3 6 2 2]\n",
      " [3 4 3 1]]\n"
     ]
    }
   ],
   "source": [
    "import numpy as np\n",
    "\n",
    "# Ma trận nhu cầu (Demand Matrix)\n",
    "P = np.array([\n",
    "    [6, 5, 3, 1],\n",
    "    [3, 6, 2, 2],\n",
    "    [3, 4, 3, 1]\n",
    "])\n",
    "print(\"Ma trận nhu cầu (P):\\n\", P)"
   ]
  },
  {
   "cell_type": "code",
   "execution_count": 65,
   "id": "8077914c",
   "metadata": {},
   "outputs": [
    {
     "name": "stdout",
     "output_type": "stream",
     "text": [
      "\n",
      "Ma trận giá (Q):\n",
      " [[ 1.5  1. ]\n",
      " [ 2.   2.5]\n",
      " [ 5.   4.5]\n",
      " [16.  17. ]]\n"
     ]
    }
   ],
   "source": [
    "# Ma trận giá (Price Matrix)\n",
    "Q = np.array([\n",
    "    [1.50, 1.00],\n",
    "    [2.00, 2.50],\n",
    "    [5.00, 4.50],\n",
    "    [16.00, 17.00]\n",
    "])\n",
    "print(\"\\nMa trận giá (Q):\\n\", Q)"
   ]
  },
  {
   "cell_type": "code",
   "execution_count": 66,
   "id": "a32b3f96",
   "metadata": {},
   "outputs": [
    {
     "name": "stdout",
     "output_type": "stream",
     "text": [
      "Ma trận A:\n",
      " [[0 1]\n",
      " [1 0]]\n",
      "\n",
      "Tính lũy thừa của ma trận A:\n",
      "A^2:\n",
      " [[1 0]\n",
      " [0 1]]\n",
      "\n",
      "Tính A^6:\n",
      "A^2:\n",
      " [[1 0]\n",
      " [0 1]]\n",
      "A^3:\n",
      " [[0 1]\n",
      " [1 0]]\n",
      "A^4:\n",
      " [[1 0]\n",
      " [0 1]]\n",
      "A^5:\n",
      " [[0 1]\n",
      " [1 0]]\n",
      "A^6:\n",
      " [[1 0]\n",
      " [0 1]]\n",
      "---\n",
      "Kết quả A^6 và nhận xét: Ma trận A là ma trận phân kỳ vì các phần tử của A^k không hội tụ về một giá trị cố định hoặc không về 0.\n",
      "\n",
      "Ma trận B:\n",
      " [[ 0 -1]\n",
      " [-1  0]]\n",
      "\n",
      "Tính lũy thừa của ma trận B:\n",
      "B^2:\n",
      " [[1 0]\n",
      " [0 1]]\n",
      "\n",
      "Tính B^5:\n",
      "B^2:\n",
      " [[1 0]\n",
      " [0 1]]\n",
      "B^3:\n",
      " [[ 0 -1]\n",
      " [-1  0]]\n",
      "B^4:\n",
      " [[1 0]\n",
      " [0 1]]\n",
      "B^5:\n",
      " [[ 0 -1]\n",
      " [-1  0]]\n",
      "---\n",
      "Kết quả B^5 và nhận xét: Ma trận B cũng là ma trận phân kỳ, các phần tử thay đổi luân phiên nhưng không hội tụ.\n"
     ]
    }
   ],
   "source": [
    "import numpy as np\n",
    "\n",
    "# Tính ma trận A:\n",
    "A = np.array([[0, 1], [1, 0]])\n",
    "print(\"Ma trận A:\\n\", A)\n",
    "\n",
    "print(\"\\nTính lũy thừa của ma trận A:\")\n",
    "temp_A = A.dot(A)  # Tính toán lần thứ 1 (A^2)\n",
    "print(\"A^2:\\n\", temp_A)\n",
    "\n",
    "k_A = 6\n",
    "print(f\"\\nTính A^{k_A}:\")\n",
    "current_A_power = A # Khởi tạo là A^1\n",
    "for i in range(1, k_A): # Bắt đầu từ 1 để tính A^2, A^3, ... A^k_A\n",
    "    current_A_power = current_A_power.dot(A)\n",
    "    print(f\"A^{i+1}:\\n\", current_A_power)\n",
    "print('---')\n",
    "print(f\"Kết quả A^{k_A} và nhận xét: Ma trận A là ma trận phân kỳ vì các phần tử của A^k không hội tụ về một giá trị cố định hoặc không về 0.\")\n",
    "\n",
    "\n",
    "# Tính ma trận B:\n",
    "B = np.array([[0, -1], [-1, 0]])\n",
    "print(\"\\nMa trận B:\\n\", B)\n",
    "\n",
    "print(\"\\nTính lũy thừa của ma trận B:\")\n",
    "temp_B = B.dot(B)  # Tính toán lần thứ 1 (B^2)\n",
    "print(\"B^2:\\n\", temp_B)\n",
    "\n",
    "k_B = 5\n",
    "print(f\"\\nTính B^{k_B}:\")\n",
    "current_B_power = B # Khởi tạo là B^1\n",
    "for i in range(1, k_B): # Bắt đầu từ 1 để tính B^2, B^3, ... B^k_B\n",
    "    current_B_power = current_B_power.dot(B)\n",
    "    print(f\"B^{i+1}:\\n\", current_B_power)\n",
    "print('---')\n",
    "print(f\"Kết quả B^{k_B} và nhận xét: Ma trận B cũng là ma trận phân kỳ, các phần tử thay đổi luân phiên nhưng không hội tụ.\")"
   ]
  },
  {
   "cell_type": "code",
   "execution_count": 67,
   "id": "425060f1",
   "metadata": {},
   "outputs": [
    {
     "name": "stdout",
     "output_type": "stream",
     "text": [
      "Ma trận C:\n",
      " [[1.  0.  0. ]\n",
      " [0.  0.5 1. ]\n",
      " [0.  0.  0.5]]\n",
      "\n",
      "Tính lũy thừa của ma trận C:\n",
      "C^2:\n",
      " [[1.   0.   0.  ]\n",
      " [0.   0.25 1.  ]\n",
      " [0.   0.   0.25]]\n",
      "\n",
      "Tính C^1000 (sau 1000 lần tích):\n",
      "C^1000:\n",
      " [[1.00000000e+000 0.00000000e+000 0.00000000e+000]\n",
      " [0.00000000e+000 9.33263619e-302 1.86652724e-298]\n",
      " [0.00000000e+000 0.00000000e+000 9.33263619e-302]]\n",
      "Nhận xét: Sau 1000 lần tích, ma trận C đã hội tụ về ma trận:\n",
      "[[1.00000000e+000 0.00000000e+000 0.00000000e+000]\n",
      " [0.00000000e+000 9.33263619e-302 1.86652724e-298]\n",
      " [0.00000000e+000 0.00000000e+000 9.33263619e-302]]\n",
      "Các phần tử ở hàng thứ 2, cột thứ 2 và thứ 3, và hàng thứ 3, cột thứ 3 tiến về 0.\n",
      "\n",
      "Thực hiện thêm 1 lần tích 1000 lần nữa (tổng cộng C^2000):\n",
      "C^2000:\n",
      " [[1. 0. 0.]\n",
      " [0. 0. 0.]\n",
      " [0. 0. 0.]]\n",
      "Nhận xét: Sau thêm 1000 lần tích nữa, ma trận vẫn giữ nguyên giá trị đã hội tụ trước đó, khẳng định sự hội tụ.\n"
     ]
    }
   ],
   "source": [
    "import numpy as np\n",
    "\n",
    "# Ma trận hội tụ C\n",
    "C = np.array([[1, 0, 0], [0, 0.5, 1], [0, 0, 0.5]])\n",
    "print(\"Ma trận C:\\n\", C)\n",
    "\n",
    "print(\"\\nTính lũy thừa của ma trận C:\")\n",
    "temp_C = C.dot(C)  # Tính toán lần thứ 1 (C^2)\n",
    "print(\"C^2:\\n\", temp_C)\n",
    "\n",
    "k_C = 1000\n",
    "print(f\"\\nTính C^{k_C} (sau 1000 lần tích):\")\n",
    "current_C_power = C # Khởi tạo là C^1\n",
    "for i in range(1, k_C):\n",
    "    current_C_power = current_C_power.dot(C)\n",
    "print(f\"C^{k_C}:\\n\", current_C_power)\n",
    "print(f\"Nhận xét: Sau 1000 lần tích, ma trận C đã hội tụ về ma trận:\\n{current_C_power}\\nCác phần tử ở hàng thứ 2, cột thứ 2 và thứ 3, và hàng thứ 3, cột thứ 3 tiến về 0.\")\n",
    "\n",
    "print(\"\\nThực hiện thêm 1 lần tích 1000 lần nữa (tổng cộng C^2000):\")\n",
    "# Tiếp tục tính toán từ kết quả temp_C sau 1000 lần\n",
    "for i in range(k_C - 1): # Lặp thêm 999 lần nữa để có tổng cộng 2000 lần tích\n",
    "    current_C_power = current_C_power.dot(C)\n",
    "print(f\"C^{k_C*2}:\\n\", current_C_power)\n",
    "print(\"Nhận xét: Sau thêm 1000 lần tích nữa, ma trận vẫn giữ nguyên giá trị đã hội tụ trước đó, khẳng định sự hội tụ.\")"
   ]
  },
  {
   "cell_type": "code",
   "execution_count": 68,
   "id": "bcfabe65",
   "metadata": {},
   "outputs": [
    {
     "name": "stdout",
     "output_type": "stream",
     "text": [
      "Ma trận Markov M:\n",
      " [[0.8 0.3]\n",
      " [0.2 0.7]]\n",
      "\n",
      "M^2:\n",
      " [[0.7  0.45]\n",
      " [0.3  0.55]]\n",
      "\n",
      "M^3:\n",
      " [[0.65  0.525]\n",
      " [0.35  0.475]]\n",
      "\n",
      "M^100 (sau 100 lần tích):\n",
      " [[0.6 0.6]\n",
      " [0.4 0.4]]\n",
      "Kết luận xu hướng của M^k: Ma trận Markov hội tụ về một ma trận ổn định, thể hiện thị phần hoặc trạng thái cân bằng trong dài hạn.\n",
      "\n",
      "Ma trận Markov M_new:\n",
      " [[0.5 0.5]\n",
      " [0.5 0.5]]\n",
      "\n",
      "M_new^2:\n",
      " [[0.5 0.5]\n",
      " [0.5 0.5]]\n",
      "\n",
      "M_new^3:\n",
      " [[0.5 0.5]\n",
      " [0.5 0.5]]\n",
      "\n",
      "M_new^100 (sau 100 lần tích):\n",
      " [[0.5 0.5]\n",
      " [0.5 0.5]]\n",
      "Kết luận xu hướng của M_new^k: Ma trận này cũng hội tụ nhanh chóng về một ma trận ổn định.\n"
     ]
    }
   ],
   "source": [
    "import numpy as np\n",
    "\n",
    "# Ma trận Markov M\n",
    "M = np.array([[0.8, 0.3], [0.2, 0.7]])\n",
    "print(\"Ma trận Markov M:\\n\", M)\n",
    "\n",
    "# Tính M^2\n",
    "MM = M.dot(M)\n",
    "print(\"\\nM^2:\\n\", MM)\n",
    "\n",
    "# Tính M^3\n",
    "# (Lưu ý: trong tài liệu gốc có vẻ có sự nhầm lẫn khi gọi lại MM = M.dot(M) cho M^3.\n",
    "# Đúng ra phải là MM = MM.dot(M) hoặc M_power_3 = M.dot(M).dot(M))\n",
    "MM_power_3 = MM.dot(M)\n",
    "print(\"\\nM^3:\\n\", MM_power_3)\n",
    "\n",
    "# Tính các M^k khác (ví dụ k=100)\n",
    "current_M_power = MM_power_3 # Bắt đầu từ M^3\n",
    "for i in range(97): # Tính thêm 97 lần để đạt M^100\n",
    "    current_M_power = current_M_power.dot(M)\n",
    "print(f\"\\nM^100 (sau 100 lần tích):\\n\", current_M_power)\n",
    "print(\"Kết luận xu hướng của M^k: Ma trận Markov hội tụ về một ma trận ổn định, thể hiện thị phần hoặc trạng thái cân bằng trong dài hạn.\")\n",
    "\n",
    "# Thử lại với ma trận M khác\n",
    "M_new = np.array([[0.5, 0.5], [0.5, 0.5]])\n",
    "print(\"\\nMa trận Markov M_new:\\n\", M_new)\n",
    "\n",
    "MM_new_power_2 = M_new.dot(M_new)\n",
    "print(\"\\nM_new^2:\\n\", MM_new_power_2)\n",
    "\n",
    "MM_new_power_3 = MM_new_power_2.dot(M_new)\n",
    "print(\"\\nM_new^3:\\n\", MM_new_power_3)\n",
    "\n",
    "current_M_new_power = M_new # Khởi tạo là M_new^1\n",
    "for i in range(99): # Tính đến M_new^100\n",
    "    current_M_new_power = current_M_new_power.dot(M_new)\n",
    "print(f\"\\nM_new^100 (sau 100 lần tích):\\n\", current_M_new_power)\n",
    "print(\"Kết luận xu hướng của M_new^k: Ma trận này cũng hội tụ nhanh chóng về một ma trận ổn định.\")"
   ]
  },
  {
   "cell_type": "code",
   "execution_count": 69,
   "id": "8e5f3255",
   "metadata": {},
   "outputs": [
    {
     "name": "stdout",
     "output_type": "stream",
     "text": [
      "Ma trận M ban đầu:\n",
      " [[0.8 0.3]\n",
      " [0.2 0.7]]\n",
      "\n",
      "Ma trận hoán vị P:\n",
      " [[1. 0.]\n",
      " [0. 1.]]\n",
      "\n",
      "Ma trận tam giác dưới L:\n",
      " [[1.   0.  ]\n",
      " [0.25 1.  ]]\n",
      "\n",
      "Ma trận tam giác trên U:\n",
      " [[0.8   0.3  ]\n",
      " [0.    0.625]]\n",
      "\n",
      "Kiểm tra M = P @ L @ U:\n",
      " [[0.8 0.3]\n",
      " [0.2 0.7]]\n",
      "\n",
      "Ma trận P là ma trận đơn vị. Kiểm tra L.dot(U):\n",
      "L.dot(U):\n",
      " [[0.8 0.3]\n",
      " [0.2 0.7]]\n"
     ]
    }
   ],
   "source": [
    "import numpy as np\n",
    "from scipy import linalg\n",
    "\n",
    "# Khởi tạo ma trận M\n",
    "M = np.array([[0.8, 0.3], [0.2, 0.7]])\n",
    "print(\"Ma trận M ban đầu:\\n\", M)\n",
    "\n",
    "# Thực hiện phân rã LU\n",
    "P, L, U = linalg.lu(M) # lệnh linalg.lu sẽ tách ma trận M thành 3 ma trận P, L và U\n",
    "# P là ma trận hoán vị (permutation matrix)\n",
    "# L là ma trận tam giác dưới\n",
    "# U là ma trận tam giác trên\n",
    "\n",
    "print(\"\\nMa trận hoán vị P:\\n\", P)\n",
    "print(\"\\nMa trận tam giác dưới L:\\n\", L)\n",
    "print(\"\\nMa trận tam giác trên U:\\n\", U)\n",
    "\n",
    "# Kiểm tra lại bằng phép nhân LU có bằng ma trận M ban đầu hay không\n",
    "# Đối với linalg.lu, M = P @ L @ U\n",
    "reconstructed_M = P @ L @ U\n",
    "print(\"\\nKiểm tra M = P @ L @ U:\\n\", reconstructed_M)\n",
    "\n",
    "# Kiểm tra L.dot(U) (nếu không có hoán vị hoặc P là ma trận đơn vị)\n",
    "# Trong trường hợp tổng quát của LU decomposition, M = P @ L @ U.\n",
    "# Nếu P là ma trận đơn vị (identity matrix), thì M = L @ U.\n",
    "# Hãy kiểm tra P có phải là ma trận đơn vị không.\n",
    "if np.array_equal(P, np.eye(P.shape[0])):\n",
    "    print(\"\\nMa trận P là ma trận đơn vị. Kiểm tra L.dot(U):\")\n",
    "    lu_product = L.dot(U)\n",
    "    print(\"L.dot(U):\\n\", lu_product)\n",
    "else:\n",
    "    print(\"\\nMa trận P không phải ma trận đơn vị. Cần nhân P @ L @ U để tái tạo M.\")"
   ]
  },
  {
   "cell_type": "code",
   "execution_count": 70,
   "id": "a81eea5a",
   "metadata": {},
   "outputs": [
    {
     "name": "stdout",
     "output_type": "stream",
     "text": [
      "Ma trận nghịch đảo của E:\n",
      " [[ -1. -10.  -8.]\n",
      " [ -1.  -6.  -5.]\n",
      " [ -0.  -1.  -1.]]\n",
      "\n",
      "--- Mã hóa ---\n",
      "Phân đoạn 1 đã mã hóa: [18 16 22] -> [ 24 -42  -4]\n",
      "Phân đoạn 2 đã mã hóa: [ 6  5 16] -> [ 17 -23 -37]\n",
      "Phân đoạn 3 đã mã hóa: [22  4 10] -> [ 28 -50  16]\n",
      "Phân đoạn 4 đã mã hóa: [ 5 11 31] -> [ 25 -30 -81]\n",
      "Phân đoạn 5 đã mã hóa: [ 3  5 19] -> [ 17 -20 -55]\n",
      "Phân đoạn 6 đã mã hóa: [17 14  4] -> [  7 -24  60]\n",
      "Phân đoạn 7 đã mã hóa: [30 35 35] -> [ 30 -60  25]\n",
      "\n",
      "--- Giải mã ---\n",
      "Phân đoạn 1 đã giải mã: [ 24 -42  -4] -> [18 16 22]\n",
      "Phân đoạn 2 đã giải mã: [ 17 -23 -37] -> [ 6  5 16]\n",
      "Phân đoạn 3 đã giải mã: [ 28 -50  16] -> [22  4 10]\n",
      "Phân đoạn 4 đã giải mã: [ 25 -30 -81] -> [ 5 11 31]\n",
      "Phân đoạn 5 đã giải mã: [ 17 -20 -55] -> [ 3  5 19]\n",
      "Phân đoạn 6 đã giải mã: [  7 -24  60] -> [17 14  4]\n",
      "Phân đoạn 7 đã giải mã: [ 30 -60  25] -> [30 35 35]\n",
      "\n",
      "Giải mã thành công: Tất cả các phân đoạn khớp với bản gốc.\n"
     ]
    }
   ],
   "source": [
    "#4 Bài toán ứng dụng 1 – Căn bản về mật mã học, mã hóa thông tin, mật khẩu\n",
    "import numpy as np\n",
    "# Định nghĩa ma trận mã hóa E\n",
    "E = np.array([[1, -2, 2],\n",
    "              [-1, 1, 3],\n",
    "              [1, -1, -4]])\n",
    "\n",
    "# Tính ma trận nghịch đảo của E\n",
    "try:\n",
    "    E_inv = np.linalg.inv(E)\n",
    "    print(\"Ma trận nghịch đảo của E:\\n\", E_inv)\n",
    "except np.linalg.LinAlgError:\n",
    "    print(\"Ma trận E là ma trận suy biến và không thể đảo ngược.\")\n",
    "\n",
    "char_to_num = {\n",
    "    ' ': 5, 'A': 6, 'Ã': 7, 'Â': 8, 'B': 9, 'C': 10, 'D': 11, 'Đ': 12, 'E': 13,\n",
    "    'Ê': 14, 'G': 15, 'H': 16, 'I': 17, 'K': 18, 'L': 19, 'M': 20, 'N': 21,\n",
    "    'O': 22, 'Ô': 24, 'Ơ': 22, 'P': 25, 'Q': 26, 'R': 27, 'S': 28, 'T': 29,\n",
    "    'U': 30, 'Ư': 31, 'V': 32, 'X': 33, 'Y': 34, '.': 4, '~': 3, '0': 0, '1': 1,\n",
    "    '2': 2, '3': 3, '4': 4, '5': 5, '6': 6, '7': 7, '8': 8, '9': 9\n",
    "}\n",
    "num_to_char = {v: k for k, v in char_to_num.items()}\n",
    "num_to_char[0] = '(DẤU SẮC)'\n",
    "num_to_char[1] = '(DẤU HUYỀN)'\n",
    "num_to_char[2] = '(DẤU HỎI)'\n",
    "num_to_char[3] = '(DẤU NGÃ)'\n",
    "num_to_char[4] = '(DẤU NẶNG)'\n",
    "num_to_char[35] = ''\n",
    "\n",
    "# Biểu diễn số của các phân đoạn thông điệp\n",
    "message_segments_num = [\n",
    "    np.array([18, 16, 22]), \n",
    "    np.array([6, 5, 16]), \n",
    "    np.array([22, 4, 10]),  \n",
    "    np.array([5, 11, 31]), \n",
    "    np.array([3, 5, 19]),  \n",
    "    np.array([17, 14, 4]),  \n",
    "    np.array([30, 35, 35])   \n",
    "]\n",
    "\n",
    "encoded_segments = []\n",
    "print(\"\\n--- Mã hóa ---\")\n",
    "for i, segment in enumerate(message_segments_num):\n",
    "    encoded_segment = segment.dot(E)\n",
    "    encoded_segments.append(encoded_segment)\n",
    "    print(f\"Phân đoạn {i+1} đã mã hóa: {segment} -> {encoded_segment}\")\n",
    "\n",
    "print(\"\\n--- Giải mã ---\")\n",
    "decoded_segments = []\n",
    "for i, encoded_segment in enumerate(encoded_segments):\n",
    "    decoded_segment = np.round(encoded_segment.dot(E_inv)).astype(int) \n",
    "    decoded_segments.append(decoded_segment)\n",
    "    print(f\"Phân đoạn {i+1} đã giải mã: {encoded_segment} -> {decoded_segment}\")\n",
    "\n",
    "all_match = True\n",
    "for i in range(len(message_segments_num)):\n",
    "    if not np.array_equal(message_segments_num[i], decoded_segments[i]):\n",
    "        all_match = False\n",
    "        break\n",
    "if all_match:\n",
    "    print(\"\\nGiải mã thành công: Tất cả các phân đoạn khớp với bản gốc.\")\n",
    "else:\n",
    "    print(\"\\nGiải mã thất bại: Một số phân đoạn không khớp với bản gốc.\")\n"
   ]
  },
  {
   "cell_type": "code",
   "execution_count": 71,
   "id": "94616f48",
   "metadata": {},
   "outputs": [
    {
     "name": "stdout",
     "output_type": "stream",
     "text": [
      "Ma trận A:\n",
      " [[0 1 0 1]\n",
      " [0 0 1 0]\n",
      " [1 0 0 1]\n",
      " [1 1 0 0]]\n",
      "\n",
      "Ma trận A^2:\n",
      " [[1 1 1 0]\n",
      " [1 0 0 1]\n",
      " [1 2 0 1]\n",
      " [0 1 1 1]]\n",
      "\n",
      "Ma trận A^3:\n",
      " [[1 1 1 2]\n",
      " [1 2 0 1]\n",
      " [1 2 2 1]\n",
      " [2 1 1 1]]\n",
      "\n",
      "Tổng của A + A^2 + A^3:\n",
      " [[2 3 2 3]\n",
      " [2 2 1 2]\n",
      " [3 4 2 3]\n",
      " [3 3 2 2]]\n"
     ]
    }
   ],
   "source": [
    "#5 Bài toán ứng dụng 2 – Bài toán loan tin (Information Propagation Problem)\n",
    "\n",
    "import numpy as np\n",
    "\n",
    "# Định nghĩa ma trận kề A\n",
    "A = np.array([[0, 1, 0, 1],\n",
    "              [0, 0, 1, 0],\n",
    "              [1, 0, 0, 1],\n",
    "              [1, 1, 0, 0]])\n",
    "\n",
    "print(\"Ma trận A:\\n\", A)\n",
    "\n",
    "# Tính A^2\n",
    "A_squared = np.dot(A, A)\n",
    "print(\"\\nMa trận A^2:\\n\", A_squared)\n",
    "\n",
    "# Tính A^3\n",
    "A_cubed = np.dot(A_squared, A)\n",
    "print(\"\\nMa trận A^3:\\n\", A_cubed)\n",
    "\n",
    "# Tính tổng(A^i) với k=3 (A + A^2 + A^3)\n",
    "sum_A_i = A + A_squared + A_cubed\n",
    "print(\"\\nTổng của A + A^2 + A^3:\\n\", sum_A_i)"
   ]
  },
  {
   "cell_type": "code",
   "execution_count": 72,
   "id": "34284746",
   "metadata": {},
   "outputs": [
    {
     "name": "stdout",
     "output_type": "stream",
     "text": [
      "Chosen Matrix M:\n",
      " [[2 1 0]\n",
      " [1 2 1]\n",
      " [0 1 2]]\n",
      "\n",
      "Determinant of M: 4.0\n",
      "Since the determinant is non-zero, the matrix M is invertible.\n",
      "\n",
      "Inverse of M (M_inv):\n",
      " [[ 0.75 -0.5   0.25]\n",
      " [-0.5   1.   -0.5 ]\n",
      " [ 0.25 -0.5   0.75]]\n",
      "\n",
      "M * M_inv (should be identity matrix):\n",
      " [[ 1.  0.  0.]\n",
      " [-0.  1.  0.]\n",
      " [-0.  0.  1.]]\n"
     ]
    }
   ],
   "source": [
    "#Câu 1: Hãy viết chương trình bằng Python hoặc sử dụng thư viện numpy/sympy để:\n",
    "import numpy as np\n",
    "M = np.array([[2, 1, 0],\n",
    "              [1, 2, 1],\n",
    "              [0, 1, 2]])\n",
    "print(\"Chosen Matrix M:\\n\", M)\n",
    "det_M = np.linalg.det(M)\n",
    "print(f\"\\nDeterminant of M: {det_M}\") \n",
    "if det_M != 0:\n",
    "    print(\"Since the determinant is non-zero, the matrix M is invertible.\")\n",
    "    M_inv = np.linalg.inv(M)\n",
    "    print(\"\\nInverse of M (M_inv):\\n\", M_inv)\n",
    "    identity_check = np.dot(M, M_inv)\n",
    "    print(\"\\nM * M_inv (should be identity matrix):\\n\", np.round(identity_check, decimals=5))\n",
    "else:\n",
    "    print(\"The matrix M is singular and not invertible.\")"
   ]
  },
  {
   "cell_type": "code",
   "execution_count": 73,
   "id": "711fc9ab",
   "metadata": {},
   "outputs": [
    {
     "name": "stdout",
     "output_type": "stream",
     "text": [
      "{' ': 0, 'A': 1, 'B': 2, 'C': 3, 'D': 4, 'E': 5, 'F': 6, 'G': 7, 'H': 8, 'I': 9, 'J': 10, 'K': 11, 'L': 12, 'M': 13, 'N': 14, 'O': 15, 'P': 16, 'Q': 17, 'R': 18, 'S': 19, 'T': 20, 'U': 21, 'V': 22, 'W': 23, 'X': 24, 'Y': 25, 'Z': 26, '0': 27, '1': 28, '2': 29, '3': 30, '4': 31, '5': 32, '6': 33, '7': 34, '8': 35, '9': 36}\n",
      "{0: ' ', 1: 'A', 2: 'B', 3: 'C', 4: 'D', 5: 'E', 6: 'F', 7: 'G', 8: 'H', 9: 'I', 10: 'J', 11: 'K', 12: 'L', 13: 'M', 14: 'N', 15: 'O', 16: 'P', 17: 'Q', 18: 'R', 19: 'S', 20: 'T', 21: 'U', 22: 'V', 23: 'W', 24: 'X', 25: 'Y', 26: 'Z', 27: '0', 28: '1', 29: '2', 30: '3', 31: '4', 32: '5', 33: '6', 34: '7', 35: '8', 36: '9'}\n",
      "\n",
      "--- Mã hóa '2274802010990' ---\n",
      "Chuỗi số gốc (đã đệm): [29, 29, 34, 31, 35, 27, 29, 27, 28, 27, 36, 36, 27, 0, 0]\n",
      "Các phân đoạn đã mã hóa:\n",
      "[ 87 121  97]\n",
      "[ 97 128  89]\n",
      "[ 85 111  83]\n",
      "[ 90 135 108]\n",
      "[54 27  0]\n",
      "\n",
      "--- Giải mã thông điệp đã mã hóa ---\n",
      "Thông điệp đã giải mã: 2274802010990\n",
      "\n",
      "Xác minh thành công: Thông điệp đã giải mã khớp với bản gốc.\n"
     ]
    }
   ],
   "source": [
    "import numpy as np\n",
    "M = np.array([[2, 1, 0],\n",
    "              [1, 2, 1],\n",
    "              [0, 1, 2]])\n",
    "M_inv = np.linalg.inv(M)\n",
    "def create_char_num_mapping():\n",
    "    char_to_num = {}\n",
    "    num_to_char = {}\n",
    "    current_num = 0\n",
    "    char_to_num[' '] = current_num\n",
    "    num_to_char[current_num] = ' '\n",
    "    current_num += 1\n",
    "    for i in range(26):\n",
    "        char = chr(ord('A') + i)\n",
    "        char_to_num[char] = current_num\n",
    "        num_to_char[current_num] = char\n",
    "        current_num += 1\n",
    "    for i in range(10):\n",
    "        char = str(i)\n",
    "        char_to_num[char] = current_num\n",
    "        num_to_char[current_num] = char\n",
    "        current_num += 1\n",
    "    return char_to_num, num_to_char\n",
    "\n",
    "CHAR_TO_NUM, NUM_TO_CHAR = create_char_num_mapping()\n",
    "print(CHAR_TO_NUM)\n",
    "print(NUM_TO_CHAR)\n",
    "\n",
    "def encode_message(message, encryption_matrix, char_to_num_map):\n",
    "    message = message.upper()\n",
    "    numerical_sequence = []\n",
    "    for char in message:\n",
    "        if char in char_to_num_map:\n",
    "            numerical_sequence.append(char_to_num_map[char])\n",
    "        else:\n",
    "            print(f\"Cảnh báo: Ký tự '{char}' không có trong ánh xạ. Bỏ qua hoặc sử dụng ký tự giữ chỗ.\")\n",
    "            numerical_sequence.append(char_to_num_map[' ']) \n",
    "    padding_needed = (3 - len(numerical_sequence) % 3) % 3\n",
    "    numerical_sequence.extend([char_to_num_map[' ']] * padding_needed)\n",
    "    segments = [np.array(numerical_sequence[i:i+3]) for i in range(0, len(numerical_sequence), 3)]\n",
    "    encrypted_segments = []\n",
    "    for segment in segments:\n",
    "        encrypted_segment = segment.dot(encryption_matrix)\n",
    "        encrypted_segments.append(encrypted_segment)\n",
    "    \n",
    "    return encrypted_segments, numerical_sequence \n",
    "\n",
    "def decode_message(encrypted_segments, decryption_matrix, num_to_char_map):\n",
    "    decoded_numerical_sequence = []\n",
    "    for segment in encrypted_segments:\n",
    "        decoded_segment = np.round(segment.dot(decryption_matrix)).astype(int)\n",
    "        decoded_numerical_sequence.extend(decoded_segment)\n",
    "    decoded_message = \"\"\n",
    "    for num in decoded_numerical_sequence:\n",
    "        if num in num_to_char_map:\n",
    "            decoded_message += num_to_char_map[num]\n",
    "        else:\n",
    "            decoded_message += '?' \n",
    "            \n",
    "    return decoded_message\n",
    "\n",
    "# b. Nhập họ và tên hoặc mã số sinh viên\n",
    "student_info = input(\"Nhập họ và tên hoặc mã số sinh viên của bạn: \")\n",
    "\n",
    "# c. Mã hóa họ và tên hoặc mã số sinh viên\n",
    "print(f\"\\n--- Mã hóa '{student_info}' ---\")\n",
    "encrypted_segments, original_numerical_sequence = encode_message(student_info, M, CHAR_TO_NUM)\n",
    "print(f\"Chuỗi số gốc (đã đệm): {original_numerical_sequence}\")\n",
    "print(\"Các phân đoạn đã mã hóa:\")\n",
    "for seg in encrypted_segments:\n",
    "    print(seg)\n",
    "\n",
    "# d. Thực hiện giải mã với ma trận được chọn\n",
    "print(f\"\\n--- Giải mã thông điệp đã mã hóa ---\")\n",
    "decoded_message = decode_message(encrypted_segments, M_inv, NUM_TO_CHAR)\n",
    "print(f\"Thông điệp đã giải mã: {decoded_message.strip()}\") # .strip() để loại bỏ các khoảng trắng đệm\n",
    "\n",
    "# Xác minh\n",
    "original_clean = \"\".join([c for c in student_info.upper() if c in CHAR_TO_NUM])\n",
    "decoded_clean = \"\".join([c for c in decoded_message.strip() if c in CHAR_TO_NUM])\n",
    "\n",
    "if original_clean == decoded_clean:\n",
    "    print(\"\\nXác minh thành công: Thông điệp đã giải mã khớp với bản gốc.\")\n",
    "else:\n",
    "    print(\"\\nXác minh thất bại: Thông điệp đã giải mã KHÔNG hoàn toàn khớp với bản gốc (có thể do ánh xạ ký tự hoặc làm tròn).\")"
   ]
  },
  {
   "cell_type": "code",
   "execution_count": 74,
   "id": "14c5b593",
   "metadata": {},
   "outputs": [
    {
     "name": "stdout",
     "output_type": "stream",
     "text": [
      "Với c_values = [3, 1, 2]: p_n = 11, q_n = 3. Phân số: 11/3\n",
      "Với c_values = [2, 1, 2]: p_n = 8, q_n = 3. Phân số: 8/3\n"
     ]
    }
   ],
   "source": [
    "#Câu 2: Tính toán phân số từ liên phân số (continued fractions)\n",
    "import numpy as np\n",
    "\n",
    "def calculate_continued_fraction(c_values):\n",
    "    if not c_values:\n",
    "        return None, None\n",
    "\n",
    "    # Khởi tạo ma trận tích với ma trận của số hạng đầu tiên\n",
    "    result_matrix = np.array([[c_values[0], 1],\n",
    "                              [1, 0]])\n",
    "\n",
    "    # Nhân với các ma trận tiếp theo\n",
    "    for i in range(1, len(c_values)):\n",
    "        matrix_i = np.array([[c_values[i], 1],\n",
    "                             [1, 0]])\n",
    "        result_matrix = np.dot(result_matrix, matrix_i)\n",
    "    \n",
    "    # Trích xuất p_n và q_n từ ma trận kết quả\n",
    "    p_n = result_matrix[0, 0]\n",
    "    q_n = result_matrix[1, 0]\n",
    "    \n",
    "    return p_n, q_n\n",
    "\n",
    "# Ví dụ từ tài liệu: 11/3 = 3 + 1/(1 + 1/2) => c = [3, 1, 2]\n",
    "c_example = [3, 1, 2]\n",
    "p, q = calculate_continued_fraction(c_example)\n",
    "print(f\"Với c_values = {c_example}: p_n = {p}, q_n = {q}. Phân số: {p}/{q}\")\n",
    "\n",
    "# Một ví dụ khác: 8/3 = 2 + 1/(1 + 1/2) => c = [2, 1, 2]\n",
    "c_example_2 = [2, 1, 2]\n",
    "p2, q2 = calculate_continued_fraction(c_example_2)\n",
    "print(f\"Với c_values = {c_example_2}: p_n = {p2}, q_n = {q2}. Phân số: {p2}/{q2}\")"
   ]
  }
 ],
 "metadata": {
  "kernelspec": {
   "display_name": "Python 3",
   "language": "python",
   "name": "python3"
  },
  "language_info": {
   "codemirror_mode": {
    "name": "ipython",
    "version": 3
   },
   "file_extension": ".py",
   "mimetype": "text/x-python",
   "name": "python",
   "nbconvert_exporter": "python",
   "pygments_lexer": "ipython3",
   "version": "3.10.11"
  }
 },
 "nbformat": 4,
 "nbformat_minor": 5
}
