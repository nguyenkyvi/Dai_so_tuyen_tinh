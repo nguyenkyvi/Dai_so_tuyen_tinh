{
 "cells": [
  {
   "cell_type": "code",
   "execution_count": 23,
   "id": "a5569d05",
   "metadata": {},
   "outputs": [
    {
     "name": "stdout",
     "output_type": "stream",
     "text": [
      "Inner product (np.inner): 32\n",
      "Dot product (np.dot): 32\n"
     ]
    }
   ],
   "source": [
    "import numpy as np\n",
    "\n",
    "a = np.array([1, 2, 3])\n",
    "b = np.array([4, 5, 6])\n",
    "\n",
    "# Tích vô hướng\n",
    "tich_inner = np.inner(a, b)\n",
    "tich_dot = np.dot(a, b)\n",
    "\n",
    "print(\"Inner product (np.inner):\", tich_inner)\n",
    "print(\"Dot product (np.dot):\", tich_dot)\n"
   ]
  },
  {
   "cell_type": "code",
   "execution_count": 24,
   "id": "c7b598ee",
   "metadata": {},
   "outputs": [
    {
     "name": "stdout",
     "output_type": "stream",
     "text": [
      "Norm 2: 3.7416573867739413\n",
      "Norm 1: 6.0\n",
      "Norm 3: 3.3019272488946263\n",
      "Norm 1000: inf\n"
     ]
    },
    {
     "name": "stderr",
     "output_type": "stream",
     "text": [
      "C:\\Users\\Admin\\AppData\\Local\\Packages\\PythonSoftwareFoundation.Python.3.11_qbz5n2kfra8p0\\LocalCache\\local-packages\\Python311\\site-packages\\numpy\\linalg\\_linalg.py:2840: RuntimeWarning: overflow encountered in power\n",
      "  absx **= ord\n"
     ]
    }
   ],
   "source": [
    "a = np.array([1, 2, -3])\n",
    "\n",
    "# Chuẩn 2 (mặc định)\n",
    "print(\"Norm 2:\", np.linalg.norm(a))\n",
    "\n",
    "# Chuẩn 1\n",
    "print(\"Norm 1:\", np.linalg.norm(a, 1))\n",
    "\n",
    "# Chuẩn tùy chọn (ví dụ chuẩn bậc 3 và 1000)\n",
    "print(\"Norm 3:\", np.linalg.norm(a, 3))\n",
    "print(\"Norm 1000:\", np.linalg.norm(a, 1000))\n"
   ]
  },
  {
   "cell_type": "code",
   "execution_count": 25,
   "id": "358b4d80",
   "metadata": {},
   "outputs": [
    {
     "name": "stdout",
     "output_type": "stream",
     "text": [
      "Custom Norm 1: 6.0\n",
      "Custom Norm 2: 3.7416573867739413\n",
      "Custom Norm 3: 3.3019272488946263\n"
     ]
    }
   ],
   "source": [
    "import math\n",
    "\n",
    "def chuan(vector, p):\n",
    "    return sum(abs(x)**p for x in vector)**(1/p)\n",
    "\n",
    "print(\"Custom Norm 1:\", chuan(a, 1))\n",
    "print(\"Custom Norm 2:\", chuan(a, 2))\n",
    "print(\"Custom Norm 3:\", chuan(a, 3))\n"
   ]
  },
  {
   "cell_type": "code",
   "execution_count": 26,
   "id": "e3976b5f",
   "metadata": {},
   "outputs": [
    {
     "name": "stdout",
     "output_type": "stream",
     "text": [
      "Distance between u and v: 5.196152422706632\n"
     ]
    }
   ],
   "source": [
    "u = np.array([1, 2, 3])\n",
    "v = np.array([4, 5, 6])\n",
    "\n",
    "distance = np.linalg.norm(u - v)\n",
    "print(\"Distance between u and v:\", distance)\n"
   ]
  },
  {
   "cell_type": "code",
   "execution_count": 27,
   "id": "434bcc75",
   "metadata": {},
   "outputs": [
    {
     "name": "stdout",
     "output_type": "stream",
     "text": [
      "Angle (in degrees): 12.933154491899135\n"
     ]
    }
   ],
   "source": [
    "from numpy import arccos\n",
    "cos_theta = np.dot(u, v) / (np.linalg.norm(u) * np.linalg.norm(v))\n",
    "goc = np.degrees(np.arccos(cos_theta))\n",
    "print(\"Angle (in degrees):\", goc)\n"
   ]
  },
  {
   "cell_type": "code",
   "execution_count": 28,
   "id": "d78e7c8a",
   "metadata": {},
   "outputs": [
    {
     "name": "stdout",
     "output_type": "stream",
     "text": [
      "Projection of u onto v: [1. 0. 0.]\n"
     ]
    }
   ],
   "source": [
    "u = np.array([1, 2, 3])\n",
    "v = np.array([1, 0, 0])\n",
    "\n",
    "# Phép chiếu\n",
    "proj = (np.dot(u, v) / np.dot(v, v)) * v\n",
    "print(\"Projection of u onto v:\", proj)\n"
   ]
  },
  {
   "cell_type": "code",
   "execution_count": 29,
   "id": "a949a88b",
   "metadata": {},
   "outputs": [
    {
     "name": "stdout",
     "output_type": "stream",
     "text": [
      "Center of mass: [1.3 0.9 0. ]\n"
     ]
    }
   ],
   "source": [
    "m = 10\n",
    "v1 = np.array([5, -4, 3])\n",
    "v2 = np.array([4, 3, -2])\n",
    "v3 = np.array([-4, -3, -1])\n",
    "v4 = np.array([-9, 8, 6])\n",
    "mi = np.array([2, 5, 2, 1])\n",
    "\n",
    "M = np.array([v1, v2, v3, v4])\n",
    "MT = M.transpose()\n",
    "\n",
    "# Trọng tâm\n",
    "v = (1.0 / m) * MT.dot(mi)\n",
    "print(\"Center of mass:\", v)\n"
   ]
  },
  {
   "cell_type": "code",
   "execution_count": 30,
   "id": "70cff06a",
   "metadata": {},
   "outputs": [
    {
     "name": "stdout",
     "output_type": "stream",
     "text": [
      "State after 100 weeks: [0.98550723 0.01449277]\n"
     ]
    }
   ],
   "source": [
    "from numpy.linalg import matrix_power\n",
    "\n",
    "A = np.array([[0.998, 0.136],\n",
    "              [0.002, 0.864]])\n",
    "v0 = np.array([0.95, 0.05])\n",
    "\n",
    "A_100 = matrix_power(A, 100)\n",
    "v100 = A_100 @ v0\n",
    "print(\"State after 100 weeks:\", v100)\n"
   ]
  },
  {
   "cell_type": "code",
   "execution_count": 31,
   "id": "0cced7e6",
   "metadata": {},
   "outputs": [
    {
     "name": "stdout",
     "output_type": "stream",
     "text": [
      "Nghiệm trạng thái cân bằng: {x: 68/69, y: 1/69}\n"
     ]
    }
   ],
   "source": [
    "import sympy as sym\n",
    "\n",
    "x, y = sym.symbols('x y')\n",
    "A = sym.Matrix([[1, -68],\n",
    "                [1, 1]])\n",
    "b = sym.Matrix([0, 1])\n",
    "xy = sym.Matrix([x, y])\n",
    "\n",
    "nghiem = sym.solve([A * xy - b])\n",
    "print(\"Nghiệm trạng thái cân bằng:\", nghiem)\n"
   ]
  },
  {
   "cell_type": "code",
   "execution_count": 32,
   "id": "aac2ba92",
   "metadata": {},
   "outputs": [
    {
     "name": "stdout",
     "output_type": "stream",
     "text": [
      "Nghiệm trạng thái cân bằng: {x: 68/69, y: 1/69}\n"
     ]
    }
   ],
   "source": [
    "import sympy as sym\n",
    "\n",
    "x, y = sym.symbols('x y')\n",
    "A = sym.Matrix([[1, -68],\n",
    "                [1, 1]])\n",
    "b = sym.Matrix([0, 1])\n",
    "xy = sym.Matrix([x, y])\n",
    "\n",
    "nghiem = sym.solve([A * xy - b])\n",
    "print(\"Nghiệm trạng thái cân bằng:\", nghiem)\n"
   ]
  },
  {
   "cell_type": "code",
   "execution_count": 33,
   "id": "b29b82c6",
   "metadata": {},
   "outputs": [
    {
     "name": "stdout",
     "output_type": "stream",
     "text": [
      "Eigenvalues: [ 3. -7.]\n",
      "Eigenvectors (columns):\n",
      "[[ 0.9486833  -0.31622777]\n",
      " [ 0.31622777  0.9486833 ]]\n"
     ]
    }
   ],
   "source": [
    "A = np.array([[2, 3], [3, -6]])\n",
    "eigenvalues, eigenvectors = np.linalg.eig(A)\n",
    "\n",
    "print(\"Eigenvalues:\", eigenvalues)\n",
    "print(\"Eigenvectors (columns):\")\n",
    "print(eigenvectors)\n"
   ]
  },
  {
   "cell_type": "code",
   "execution_count": 34,
   "id": "c7d30488",
   "metadata": {},
   "outputs": [
    {
     "name": "stdout",
     "output_type": "stream",
     "text": [
      "A^1000: [[ 5.03503397e+18  3.50482117e+18]\n",
      " [ 3.50482117e+18 -4.31115581e+18]]\n"
     ]
    }
   ],
   "source": [
    "D = np.array([[-7, 0], [0, 3]])\n",
    "P = np.array([[-1/3, 3], [1, 1]])\n",
    "P_inv = np.linalg.inv(P)\n",
    "\n",
    "# Tính A^1000 = P * D^1000 * P^-1\n",
    "A_1000 = P @ (D ** 1000) @ P_inv\n",
    "print(\"A^1000:\", A_1000)\n"
   ]
  },
  {
   "cell_type": "code",
   "execution_count": 35,
   "id": "2c89b674",
   "metadata": {},
   "outputs": [
    {
     "name": "stdout",
     "output_type": "stream",
     "text": [
      "[[-0.3  0.9]\n",
      " [ 0.3  0.1]]\n",
      "[[ 2.33333333  9.        ]\n",
      " [-7.          3.        ]]\n"
     ]
    }
   ],
   "source": [
    "import numpy as np\n",
    "A = np.array([[2,3],[3,-6]])\n",
    "D = np.array([[-7,0],[0,3]])\n",
    "P = np.array([[-1.0/3, 3],[1,1]])\n",
    "from numpy import linalg\n",
    "from numpy import linalg as LA\n",
    "P1 = LA.inv(P) # tính giá trị nghịch đảo của P\n",
    "print (P1) \n",
    "print (A.dot(P) )"
   ]
  },
  {
   "cell_type": "code",
   "execution_count": 36,
   "id": "b4ff1a65",
   "metadata": {},
   "outputs": [
    {
     "name": "stdout",
     "output_type": "stream",
     "text": [
      "[[ 2.33333333  9.        ]\n",
      " [-7.          3.        ]]\n"
     ]
    }
   ],
   "source": [
    "import numpy as np\n",
    "A = np.array([[2,3],[3,-6]])\n",
    "D = np.array([[-7,0],[0,3]])\n",
    "P = np.array([[-1.0/3, 3],[1,1]])\n",
    "from numpy import linalg\n",
    "from numpy import linalg as LA\n",
    "P1 = LA.inv(P) # tính giá trị nghịch đảo của P\n",
    "print (A.dot(P) )"
   ]
  },
  {
   "cell_type": "code",
   "execution_count": 37,
   "id": "b9649f83",
   "metadata": {},
   "outputs": [
    {
     "name": "stdout",
     "output_type": "stream",
     "text": [
      "[[ 5.03503397e+18  3.50482117e+18]\n",
      " [ 3.50482117e+18 -4.31115581e+18]]\n"
     ]
    }
   ],
   "source": [
    "import numpy as np\n",
    "A = np.array([[2,3],[3,-6]])\n",
    "D = np.array([[-7,0],[0,3]])\n",
    "P = np.array([[-1.0/3, 3],[1,1]])\n",
    "from numpy import linalg\n",
    "from numpy import linalg as LA\n",
    "P1 = LA.inv(P) # tính giá trị nghịch đảo của P\n",
    "\n",
    "print (P @ (D ** 1000) @ P1)"
   ]
  },
  {
   "cell_type": "code",
   "execution_count": 44,
   "id": "a9bddf35",
   "metadata": {},
   "outputs": [
    {
     "name": "stdout",
     "output_type": "stream",
     "text": [
      "a. np.sqrt(a.dot(a)) = 3.7416573867739413\n",
      "b. np.sqrt(a @ a) = 3.7416573867739413\n",
      "c. np.sqrt(np.inner(a, a)) = 3.7416573867739413\n",
      "d. lambda x: sqrt(sum(i**2)) = 3.7416573867739413\n"
     ]
    }
   ],
   "source": [
    "import numpy as np\n",
    "import math\n",
    "\n",
    "a = np.array([1, 2, 3])\n",
    "\n",
    "print(\"a. np.sqrt(a.dot(a)) =\", np.sqrt(a.dot(a)))\n",
    "print(\"b. np.sqrt(a @ a) =\", np.sqrt(a @ a))\n",
    "print(\"c. np.sqrt(np.inner(a, a)) =\", np.sqrt(np.inner(a, a)))\n",
    "\n",
    "mag = lambda x: math.sqrt(sum(i**2 for i in x))\n",
    "print(\"d. lambda x: sqrt(sum(i**2)) =\", mag(a))\n"
   ]
  },
  {
   "cell_type": "code",
   "execution_count": 39,
   "id": "4b3d7b0d",
   "metadata": {},
   "outputs": [
    {
     "name": "stdout",
     "output_type": "stream",
     "text": [
      "Khoảng cách giữa u và v: 5.196152422706632\n"
     ]
    }
   ],
   "source": [
    "import numpy as np\n",
    "\n",
    "u = np.array([1, 2, 3])\n",
    "v = np.array([4, 5, 6])\n",
    "\n",
    "distance = np.linalg.norm(u - v)\n",
    "print(\"Khoảng cách giữa u và v:\", distance)\n"
   ]
  },
  {
   "cell_type": "code",
   "execution_count": 40,
   "id": "0d4f1651",
   "metadata": {},
   "outputs": [
    {
     "name": "stdout",
     "output_type": "stream",
     "text": [
      "Góc giữa u và v (rad): 0.2257261285527342\n",
      "Góc giữa u và v (độ): 12.933154491899135\n"
     ]
    }
   ],
   "source": [
    "import numpy as np\n",
    "\n",
    "u = np.array([1, 2, 3])\n",
    "v = np.array([4, 5, 6])\n",
    "\n",
    "cos_theta = np.dot(u, v) / (np.linalg.norm(u) * np.linalg.norm(v))\n",
    "theta_rad = np.arccos(cos_theta)\n",
    "theta_deg = np.degrees(theta_rad)\n",
    "\n",
    "print(\"Góc giữa u và v (rad):\", theta_rad)\n",
    "print(\"Góc giữa u và v (độ):\", theta_deg)\n"
   ]
  },
  {
   "cell_type": "code",
   "execution_count": 41,
   "id": "68179535",
   "metadata": {},
   "outputs": [
    {
     "name": "stdout",
     "output_type": "stream",
     "text": [
      "Phép chiếu u lên v: [1. 0. 0.]\n"
     ]
    }
   ],
   "source": [
    "u = np.array([1, 2, 3])\n",
    "v = np.array([1, 0, 0])\n",
    "\n",
    "projection = (np.dot(u, v) / np.dot(v, v)) * v\n",
    "print(\"Phép chiếu u lên v:\", projection)\n"
   ]
  },
  {
   "cell_type": "code",
   "execution_count": null,
   "id": "b2af038d",
   "metadata": {},
   "outputs": [],
   "source": []
  },
  {
   "cell_type": "code",
   "execution_count": null,
   "id": "71f5a6f1",
   "metadata": {},
   "outputs": [],
   "source": []
  }
 ],
 "metadata": {
  "kernelspec": {
   "display_name": "Python 3",
   "language": "python",
   "name": "python3"
  },
  "language_info": {
   "codemirror_mode": {
    "name": "ipython",
    "version": 3
   },
   "file_extension": ".py",
   "mimetype": "text/x-python",
   "name": "python",
   "nbconvert_exporter": "python",
   "pygments_lexer": "ipython3",
   "version": "3.11.9"
  }
 },
 "nbformat": 4,
 "nbformat_minor": 5
}
