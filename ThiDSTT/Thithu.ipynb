{
 "cells": [
  {
   "cell_type": "markdown",
   "id": "458359af",
   "metadata": {},
   "source": [
    "#   Câu 1: Phép toán trên vector và ma trận"
   ]
  },
  {
   "cell_type": "code",
   "execution_count": 3,
   "id": "3e0b1bff",
   "metadata": {},
   "outputs": [
    {
     "data": {
      "text/plain": [
       "(array([3, 3, 1, 5]),\n",
       " array([  4, -11,  13, -10]),\n",
       " np.int64(-8),\n",
       " 108.376,\n",
       " array([[ 5,  0, -1],\n",
       "        [ 0, 14, 10],\n",
       "        [-1, 10, 17]]))"
      ]
     },
     "execution_count": 3,
     "metadata": {},
     "output_type": "execute_result"
    }
   ],
   "source": [
    "import numpy as np\n",
    "from numpy.linalg import norm\n",
    "from math import acos, degrees\n",
    "\n",
    "# Vector A, B và ma trận C\n",
    "A = np.array([2, -1, 3, 0])\n",
    "B = np.array([1, 4, -2, 5])\n",
    "C = np.array([[1, 2, -1],\n",
    "              [0, 3, 4],\n",
    "              [2, -1, 0]])\n",
    "\n",
    "# a) Tổng và tích số\n",
    "sum_AB = A + B\n",
    "scaled_diff = 3 * A - 2 * B\n",
    "\n",
    "# b) Tích vô hướng và góc giữa 2 vector\n",
    "dot_product = np.dot(A, B)\n",
    "cos_theta = dot_product / (norm(A) * norm(B))\n",
    "angle_deg = round(degrees(acos(cos_theta)), 3)\n",
    "\n",
    "# c) C^T * C\n",
    "CTC = C.T @ C\n",
    "\n",
    "sum_AB, scaled_diff, dot_product, angle_deg, CTC\n"
   ]
  },
  {
   "cell_type": "markdown",
   "id": "a43f2cbb",
   "metadata": {},
   "source": [
    "#   Câu 2: Nhân ma trận, định thức và hạng"
   ]
  },
  {
   "cell_type": "code",
   "execution_count": 4,
   "id": "528e51d1",
   "metadata": {},
   "outputs": [
    {
     "data": {
      "text/plain": [
       "(array([[ 32,  38,  44,  50],\n",
       "        [ 80,  96, 112, 128],\n",
       "        [128, 154, 180, 206],\n",
       "        [ 12,  14,  16,  18]]),\n",
       " np.float64(0.0),\n",
       " np.int64(2))"
      ]
     },
     "execution_count": 4,
     "metadata": {},
     "output_type": "execute_result"
    }
   ],
   "source": [
    "# Ma trận M và N\n",
    "M = np.array([[1, 2, 3, 0],\n",
    "              [4, 5, 6, 1],\n",
    "              [7, 8, 9, 2],\n",
    "              [0, 1, 1, 0]])\n",
    "\n",
    "N = np.array([[0, 1, 2, 3],\n",
    "              [4, 5, 6, 7],\n",
    "              [8, 9,10,11],\n",
    "              [12,13,14,15]])\n",
    "\n",
    "# a) Tích ma trận\n",
    "product_MN = M @ N\n",
    "\n",
    "# b) Định thức của M\n",
    "try:\n",
    "    det_M = round(np.linalg.det(M), 3)\n",
    "except np.linalg.LinAlgError:\n",
    "    det_M = \"Không khả thi\"\n",
    "\n",
    "# c) Hạng của N\n",
    "rank_N = np.linalg.matrix_rank(N)\n",
    "\n",
    "product_MN, det_M, rank_N\n"
   ]
  },
  {
   "cell_type": "markdown",
   "id": "1bd33661",
   "metadata": {},
   "source": [
    "#  Câu 3: Nghịch đảo và giải hệ"
   ]
  },
  {
   "cell_type": "code",
   "execution_count": 5,
   "id": "ca8420d2",
   "metadata": {},
   "outputs": [
    {
     "data": {
      "text/plain": [
       "(array([0.46511628, 2.10465116, 1.65116279, 0.96511628]), True)"
      ]
     },
     "execution_count": 5,
     "metadata": {},
     "output_type": "execute_result"
    }
   ],
   "source": [
    "# Ma trận P và hệ phương trình\n",
    "P = np.array([[2, 1, 0, 1],\n",
    "              [0, 3, 1, -1],\n",
    "              [1, 0, 4, 2],\n",
    "              [0, 1, 0, 3]])\n",
    "\n",
    "b = np.array([4, 7, 9, 5])\n",
    "\n",
    "# a) Nghịch đảo\n",
    "try:\n",
    "    P_inv = np.linalg.inv(P)\n",
    "except np.linalg.LinAlgError:\n",
    "    P_inv = None\n",
    "\n",
    "# b) Giải hệ bằng nghịch đảo\n",
    "if P_inv is not None:\n",
    "    x = P_inv @ b\n",
    "else:\n",
    "    x = \"Ma trận không khả nghịch\"\n",
    "\n",
    "# c) Kiểm tra nghiệm\n",
    "if isinstance(x, np.ndarray):\n",
    "    check = np.allclose(P @ x, b)\n",
    "else:\n",
    "    check = \"Không kiểm tra được\"\n",
    "\n",
    "x, check\n"
   ]
  },
  {
   "cell_type": "markdown",
   "id": "573d9a6c",
   "metadata": {},
   "source": [
    "#  Câu 4: Giá trị riêng, vector riêng, chuẩn hóa"
   ]
  },
  {
   "cell_type": "code",
   "execution_count": 6,
   "id": "ad2f0cb2",
   "metadata": {},
   "outputs": [
    {
     "data": {
      "text/plain": [
       "(array([3.45339765+0.j        , 2.77330117+1.46771151j,\n",
       "        2.77330117-1.46771151j]),\n",
       " array([[0.83327121+0.j        , 0.26206044+0.31354813j,\n",
       "         0.26206044-0.31354813j],\n",
       "        [0.455468  +0.j        , 0.78166743+0.j        ,\n",
       "         0.78166743-0.j        ],\n",
       "        [0.31338154+0.j        , 0.21963176-0.41685708j,\n",
       "         0.21963176+0.41685708j]]),\n",
       " [array([0.83327121+0.j, 0.455468  +0.j, 0.31338154+0.j]),\n",
       "  array([0.26206044+0.31354813j, 0.78166743+0.j        ,\n",
       "         0.21963176-0.41685708j]),\n",
       "  array([0.26206044-0.31354813j, 0.78166743-0.j        ,\n",
       "         0.21963176+0.41685708j])])"
      ]
     },
     "execution_count": 6,
     "metadata": {},
     "output_type": "execute_result"
    }
   ],
   "source": [
    "# Ma trận Q\n",
    "Q = np.array([[4, -1, 0],\n",
    "              [1,  3, -2],\n",
    "              [0,  1,  2]])\n",
    "\n",
    "# a) Giá trị riêng\n",
    "eig_vals, eig_vecs = np.linalg.eig(Q)\n",
    "\n",
    "# b) Vector riêng tương ứng\n",
    "eig_vectors = eig_vecs\n",
    "\n",
    "# c) Chuẩn hóa vector riêng\n",
    "normalized_vectors = [v / norm(v) for v in eig_vecs.T]\n",
    "\n",
    "eig_vals, eig_vectors, normalized_vectors\n"
   ]
  },
  {
   "cell_type": "markdown",
   "id": "f657ef96",
   "metadata": {},
   "source": [
    "# Câu 5: Ứng dụng thực tế"
   ]
  },
  {
   "cell_type": "code",
   "execution_count": 7,
   "id": "ce93a7ec",
   "metadata": {},
   "outputs": [
    {
     "data": {
      "text/plain": [
       "(array([2.7826087 , 0.04347826, 2.43478261]),\n",
       " array([[-0.04347826,  0.47826087, -0.08695652],\n",
       "        [-0.39130435,  0.30434783,  0.2173913 ],\n",
       "        [ 0.08695652,  0.04347826,  0.17391304]]),\n",
       " True,\n",
       " np.float64(6.082762530298219))"
      ]
     },
     "execution_count": 7,
     "metadata": {},
     "output_type": "execute_result"
    }
   ],
   "source": [
    "# Ma trận R và vector b\n",
    "R = np.array([[1, -2, 3],\n",
    "              [2,  0, 1],\n",
    "              [-1, 1, 4]])\n",
    "\n",
    "b_vec = np.array([10, 8, 7])\n",
    "\n",
    "# a) Giải hệ phương trình\n",
    "x1 = np.linalg.solve(R, b_vec)\n",
    "\n",
    "# b) Kiểm tra khả nghịch + giải lại bằng nghịch đảo\n",
    "if np.linalg.det(R) != 0:\n",
    "    R_inv = np.linalg.inv(R)\n",
    "    x2 = R_inv @ b_vec\n",
    "    compare = np.allclose(x1, x2)\n",
    "else:\n",
    "    R_inv = None\n",
    "    compare = \"Không khả nghịch\"\n",
    "\n",
    "# c) Chuẩn Frobenius\n",
    "fro_norm = np.linalg.norm(R, ord='fro')\n",
    "\n",
    "x1, R_inv, compare, fro_norm\n"
   ]
  }
 ],
 "metadata": {
  "kernelspec": {
   "display_name": "Python 3",
   "language": "python",
   "name": "python3"
  },
  "language_info": {
   "codemirror_mode": {
    "name": "ipython",
    "version": 3
   },
   "file_extension": ".py",
   "mimetype": "text/x-python",
   "name": "python",
   "nbconvert_exporter": "python",
   "pygments_lexer": "ipython3",
   "version": "3.10.11"
  }
 },
 "nbformat": 4,
 "nbformat_minor": 5
}
