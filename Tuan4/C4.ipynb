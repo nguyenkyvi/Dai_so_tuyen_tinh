{
 "cells": [
  {
   "cell_type": "code",
   "execution_count": 13,
   "id": "d6cf0c41",
   "metadata": {},
   "outputs": [
    {
     "name": "stdout",
     "output_type": "stream",
     "text": [
      "For sigma = [4,3,2,1], sgn_by_def(sigma) = 1\n",
      "For sigma = [2,1,3,4], sgn_by_def(sigma) = -1\n",
      "For sigma = [1,2,3,4], sgn_by_def(sigma) = 1\n",
      "For sigma = [4,3,2,1], sgn_by_def(sigma) = 1\n"
     ]
    }
   ],
   "source": [
    "#1 Định thức và các tính chất\n",
    "#Sinh viên thực hành mã chương trình chi tiết dưới đây:\n",
    "import numpy as np\n",
    "\n",
    "n = 4\n",
    "X = np.array(range(1, n + 1))\n",
    "sigma = np.array([4, 3, 2, 1])\n",
    "\n",
    "def sgn_by_def(sigma):\n",
    "    ket_qua = 1.0\n",
    "    for i in range(len(X) - 1):\n",
    "        for j in range(i + 1, len(X)):\n",
    "            ket_qua *= ((X[i] - X[j]) / (sigma[i] - sigma[j]))\n",
    "    return int(ket_qua)\n",
    "\n",
    "print(\"For sigma = [4,3,2,1], sgn_by_def(sigma) =\", sgn_by_def(sigma))\n",
    "\n",
    "sigma_test1 = np.array([2, 1, 3, 4])\n",
    "print(\"For sigma = [2,1,3,4], sgn_by_def(sigma) =\", sgn_by_def(sigma_test1)) # Student fills in result\n",
    "\n",
    "sigma_test2 = np.array([1, 2, 3, 4])\n",
    "print(\"For sigma = [1,2,3,4], sgn_by_def(sigma) =\", sgn_by_def(sigma_test2)) # Student fills in result\n",
    "\n",
    "sigma_test3 = np.array([4, 3, 2, 1])\n",
    "print(\"For sigma = [4,3,2,1], sgn_by_def(sigma) =\", sgn_by_def(sigma_test3)) # Student fills in result"
   ]
  },
  {
   "cell_type": "code",
   "execution_count": 14,
   "id": "919cde19",
   "metadata": {},
   "outputs": [
    {
     "name": "stdout",
     "output_type": "stream",
     "text": [
      "Permutations (Sn): [(1, 2, 3), (1, 3, 2), (2, 1, 3), (2, 3, 1), (3, 1, 2), (3, 2, 1)]\n"
     ]
    }
   ],
   "source": [
    "#Sinh viên thực hành đoạn mã minh họa tính toán định thức của một ma trận theo định nghĩa.\n",
    "#Bước 1 \n",
    "from itertools import permutations\n",
    "import numpy as np\n",
    "\n",
    "n = 3\n",
    "X = []\n",
    "for i in range(1, n + 1):\n",
    "    X.append(i)\n",
    "\n",
    "Sn = list(permutations(X)) # Generate permutations of set X\n",
    "print(\"Permutations (Sn):\", Sn) # Student fills in result"
   ]
  },
  {
   "cell_type": "code",
   "execution_count": 15,
   "id": "c3bd692f",
   "metadata": {},
   "outputs": [
    {
     "name": "stdout",
     "output_type": "stream",
     "text": [
      "Initial determinant value: 0\n"
     ]
    }
   ],
   "source": [
    "#Bước 2\n",
    "det = 0 # This step has only 1 command, meaning to initialize the determinant's initial value. \n",
    "print(\"Initial determinant value:\", det)    "
   ]
  },
  {
   "cell_type": "code",
   "execution_count": 16,
   "id": "f2375ca3",
   "metadata": {},
   "outputs": [
    {
     "name": "stdout",
     "output_type": "stream",
     "text": [
      "\n",
      "Code 1:\n",
      "phatsinh_dinhthuc(2):\n",
      "a11a22 - a12a21\n",
      "phatsinh_dinhthuc(3):\n",
      "a11a22a33 - a11a23a32 - a12a21a33 + a12a23a31 + a13a21a32 - a13a22a31\n"
     ]
    }
   ],
   "source": [
    "#bước 3 \n",
    "#đoạn code 1 \n",
    "import numpy as np\n",
    "def sgn_by_def(sigma_arr, original_X):\n",
    "    ket_qua = 1.0\n",
    "    for i in range(len(original_X) - 1):\n",
    "        for j in range(i + 1, len(original_X)):\n",
    "            if sigma_arr[i] - sigma_arr[j] == 0:\n",
    "                return 0 \n",
    "            ket_qua *= ((original_X[i] - original_X[j]) / (sigma_arr[i] - sigma_arr[j]))\n",
    "    return int(ket_qua)\n",
    "def phatsinh_dinhthuc(n):\n",
    "    X = []\n",
    "    for i in range(1, n + 1):\n",
    "        X.append(i)\n",
    "    Sn = list(permutations(X))\n",
    "    dinhthuc_str = \"\"\n",
    "    for sn in Sn:\n",
    "        sigma_idx = np.array(list(sn))\n",
    "        product_term_str = \"\"\n",
    "        current_sigma = np.zeros(n, dtype=int) \n",
    "        for idx in range(n):\n",
    "            product_term_str += f\"a{idx+1}{sn[idx]}\"\n",
    "        current_sign = sgn_by_def(np.array(list(sn)), np.array(range(1, n + 1))) \n",
    "        if current_sign == 1:\n",
    "            if dinhthuc_str == \"\":\n",
    "                dinhthuc_str += product_term_str\n",
    "            else:\n",
    "                dinhthuc_str += \" + \" + product_term_str\n",
    "        elif current_sign == -1:\n",
    "            if dinhthuc_str == \"\":\n",
    "                dinhthuc_str += \"-\" + product_term_str\n",
    "            else:\n",
    "                dinhthuc_str += \" - \" + product_term_str\n",
    "    return dinhthuc_str\n",
    "print(\"\\nCode 1:\")\n",
    "print(\"phatsinh_dinhthuc(2):\")\n",
    "print(phatsinh_dinhthuc(2))\n",
    "print(\"phatsinh_dinhthuc(3):\")\n",
    "print(phatsinh_dinhthuc(3)) "
   ]
  },
  {
   "cell_type": "code",
   "execution_count": 17,
   "id": "33d7907c",
   "metadata": {},
   "outputs": [
    {
     "name": "stdout",
     "output_type": "stream",
     "text": [
      "\n",
      " matran:\n",
      "[[ 3  5 -8]\n",
      " [ 4 12  1]\n",
      " [ 2  5  3]]\n",
      "tinhtoan_dinhthuc: 75\n",
      "numpy.linalg.det: 74.99999999999997\n"
     ]
    }
   ],
   "source": [
    "# Code 2: \n",
    "def tinhtoan_dinhthuc(A_matrix):\n",
    "    X = []\n",
    "    n = A_matrix.shape[0]\n",
    "    \n",
    "    for i in range(1, n + 1):\n",
    "        X.append(i)\n",
    "    \n",
    "    Sn = list(permutations(X))\n",
    "    dinhthuc = 0\n",
    "    \n",
    "    for sn in Sn:\n",
    "        product = 1\n",
    "        current_permutation_values = np.array(list(sn))\n",
    "        \n",
    "        for i in range(n):\n",
    "            product *= A_matrix[i][current_permutation_values[i] - 1]\n",
    "        original_X_for_sgn = np.array(range(1, n + 1))\n",
    "        dau = sgn_by_def(current_permutation_values, original_X_for_sgn)\n",
    "        \n",
    "        dinhthuc += dau * product\n",
    "        \n",
    "    return dinhthuc\n",
    "matran = np.array([[3, 5, -8], [4, 12, 1], [2, 5, 3]])\n",
    "\n",
    "print(\"\\n matran:\")\n",
    "print(matran)\n",
    "calculated_det = tinhtoan_dinhthuc(matran)\n",
    "print(\"tinhtoan_dinhthuc:\", calculated_det) \n",
    "print(\"numpy.linalg.det:\", np.linalg.det(matran))"
   ]
  },
  {
   "cell_type": "code",
   "execution_count": 18,
   "id": "6ae5c310",
   "metadata": {},
   "outputs": [
    {
     "name": "stdout",
     "output_type": "stream",
     "text": [
      "detA, detA1, detA2: -14.0 -28.0 14.000000000000004\n",
      "Hai nghiệm của phương trình là:  2.0 -1.0000000000000002\n"
     ]
    }
   ],
   "source": [
    "#3. Quy tắc Cramer\n",
    "import numpy as np\n",
    "from scipy import linalg\n",
    "# Khai báo ma trận A\n",
    "A = np.array([[4, -2],\n",
    "              [3, -5]])\n",
    "A1 = np.array([[10, -2],\n",
    "               [11, -5]])\n",
    "A2 = np.array([[4, 10],\n",
    "               [3, 11]])\n",
    "\n",
    "detA = linalg.det(A)  \n",
    "detA1 = linalg.det(A1)\n",
    "detA2 = linalg.det(A2)\n",
    "\n",
    "print(\"detA, detA1, detA2:\", detA, detA1, detA2)\n",
    "\n",
    "if (detA != 0):\n",
    "    x1 = detA1 / detA\n",
    "    x2 = detA2 / detA\n",
    "    print(\"Hai nghiệm của phương trình là: \", x1, x2)\n",
    "\n",
    "else:\n",
    "    print(\"Định thức của A bằng 0, không thể áp dụng quy tắc Cramer (không có nghiệm duy nhất\")"
   ]
  },
  {
   "cell_type": "code",
   "execution_count": 19,
   "id": "c8242c29",
   "metadata": {},
   "outputs": [
    {
     "name": "stdout",
     "output_type": "stream",
     "text": [
      "Các ma trận đã khai báo:\n",
      "A_3x3:\n",
      " [[-1  2 -3]\n",
      " [ 2 -2  1]\n",
      " [ 3 -4  4]]\n",
      "A_x:\n",
      " [[ 1  2 -3]\n",
      " [ 3 -2  1]\n",
      " [ 2 -4  4]]\n",
      "A_y:\n",
      " [[-1  1 -3]\n",
      " [ 2  3  1]\n",
      " [ 3  2  4]]\n",
      "A_z:\n",
      " [[-1  2  1]\n",
      " [ 2 -2  3]\n",
      " [ 3 -4  2]]\n"
     ]
    }
   ],
   "source": [
    "import numpy as np\n",
    "from scipy import linalg \n",
    "from itertools import permutations \n",
    "def sgn_by_def(sigma_arr, original_X):\n",
    "    ket_qua = 1.0\n",
    "    for i in range(len(original_X) - 1):\n",
    "        for j in range(i + 1, len(original_X)):\n",
    "            if (sigma_arr[i] - sigma_arr[j]) == 0:\n",
    "                return 0\n",
    "            ket_qua *= ((original_X[i] - original_X[j]) / (sigma_arr[i] - sigma_arr[j]))\n",
    "    return int(round(ket_qua))\n",
    "def tinhtoan_dinhthuc(A_matrix):\n",
    "    X = []\n",
    "    n = A_matrix.shape[0]\n",
    "    for i in range(1, n + 1):\n",
    "        X.append(i)\n",
    "    Sn = list(permutations(X))\n",
    "    dinhthuc = 0\n",
    "    for sn in Sn:\n",
    "        product = 1\n",
    "        current_permutation_values = np.array(list(sn))\n",
    "        for i in range(n):\n",
    "            product *= A_matrix[i][current_permutation_values[i] - 1]\n",
    "        original_X_for_sgn = np.array(range(1, n + 1))\n",
    "        dau = sgn_by_def(current_permutation_values, original_X_for_sgn)\n",
    "        dinhthuc += dau * product \n",
    "    return dinhthuc\n",
    "# Ma trận hệ số A\n",
    "A_3x3 = np.array([[-1, 2, -3],\n",
    "                    [2, -2, 1],\n",
    "                    [3, -4, 4]])\n",
    "\n",
    "# Vecto hằng số b\n",
    "b_3x3 = np.array([[1], [3], [2]])\n",
    "\n",
    "# Ma trận Ax (thay cột 1 bằng cột hằng số)\n",
    "A_x = np.array([[b_3x3[0][0], A_3x3[0][1], A_3x3[0][2]],\n",
    "                  [b_3x3[1][0], A_3x3[1][1], A_3x3[1][2]],\n",
    "                  [b_3x3[2][0], A_3x3[2][1], A_3x3[2][2]]])\n",
    "\n",
    "# Ma trận Ay (thay cột 2 bằng cột hằng số)\n",
    "A_y = np.array([[A_3x3[0][0], b_3x3[0][0], A_3x3[0][2]],\n",
    "                  [A_3x3[1][0], b_3x3[1][0], A_3x3[1][2]],\n",
    "                  [A_3x3[2][0], b_3x3[2][0], A_3x3[2][2]]])\n",
    "\n",
    "# Ma trận Az (thay cột 3 bằng cột hằng số)\n",
    "A_z = np.array([[A_3x3[0][0], A_3x3[0][1], b_3x3[0][0]],\n",
    "                  [A_3x3[1][0], A_3x3[1][1], b_3x3[1][0]],\n",
    "                  [A_3x3[2][0], A_3x3[2][1], b_3x3[2][0]]])\n",
    "\n",
    "print(\"Các ma trận đã khai báo:\")\n",
    "print(\"A_3x3:\\n\", A_3x3)\n",
    "print(\"A_x:\\n\", A_x)\n",
    "print(\"A_y:\\n\", A_y)\n",
    "print(\"A_z:\\n\", A_z)"
   ]
  },
  {
   "cell_type": "code",
   "execution_count": 20,
   "id": "92eb0706",
   "metadata": {},
   "outputs": [
    {
     "name": "stdout",
     "output_type": "stream",
     "text": [
      "1.50000000000000\n"
     ]
    }
   ],
   "source": [
    "# 4. Bài toán ứng dụng 1: Tính diện tích đa giác, thể tích và các phương trình đường, mặt.\n",
    "import sympy as sp\n",
    "\n",
    "TG = sp.Matrix([[1, 0, 1], [4, 3, 1], [2, 2, 1]])\n",
    "dientich = 1/2 * TG.det()\n",
    "print(dientich)\n"
   ]
  },
  {
   "cell_type": "code",
   "execution_count": 21,
   "id": "c54511e6",
   "metadata": {},
   "outputs": [
    {
     "name": "stdout",
     "output_type": "stream",
     "text": [
      "-12.0000000000000\n"
     ]
    }
   ],
   "source": [
    "from sympy import *\n",
    "\n",
    "M = Matrix([[0, 4, 1, 1], [4, 0, 0, 1], [3, 5, 2, 1], [2, 2, 5, 1]])\n",
    "V = 1/6 * M.det()\n",
    "print(V)\n"
   ]
  },
  {
   "cell_type": "code",
   "execution_count": 22,
   "id": "03ccfc8b",
   "metadata": {},
   "outputs": [
    {
     "name": "stdout",
     "output_type": "stream",
     "text": [
      "-4*x + 3*y - 5*z - 3\n"
     ]
    }
   ],
   "source": [
    "from sympy import *\n",
    "\n",
    "x, y, z = symbols('x y z')\n",
    "MP = Matrix([[x, y, z, 1], [-1, 3, 2, 1], [0, 1, 0, 1], [-2, 0, 1, 1]])\n",
    "phuongtrinh = MP.det()\n",
    "print(phuongtrinh)"
   ]
  },
  {
   "cell_type": "code",
   "execution_count": 23,
   "id": "62e121c0",
   "metadata": {},
   "outputs": [
    {
     "name": "stdout",
     "output_type": "stream",
     "text": [
      "[Matrix([\n",
      "[  -16/93],\n",
      "[   10/93],\n",
      "[  29/372],\n",
      "[ 139/186],\n",
      "[-391/372],\n",
      "[       1]])]\n"
     ]
    }
   ],
   "source": [
    "from sympy import *\n",
    "\n",
    "# Khởi tạo 5 điểm mẫu\n",
    "points = [(1, 2), (2, 3), (3, 5), (4, 4), (5, 1)]\n",
    "\n",
    "M = Matrix([[x**2, x*y, y**2, x, y, 1] for x, y in points])\n",
    "sol = M.nullspace()  # Tìm không gian nghiệm của hệ (do 6 ẩn, 5 phương trình)\n",
    "print(sol)\n"
   ]
  },
  {
   "cell_type": "code",
   "execution_count": 24,
   "id": "3503b84c",
   "metadata": {},
   "outputs": [
    {
     "name": "stdout",
     "output_type": "stream",
     "text": [
      "Tọa độ 5 điểm ellipse: [(1, 2), (2, 3), (3, 5), (4, 4), (5, 1)]\n",
      "\n",
      "Vector nghiệm tỉ lệ [a, b, c, d, e, f]:\n",
      "Matrix([[-16/93], [10/93], [29/372], [139/186], [-391/372], [1]])\n",
      "\n",
      "Phương trình ellipse là:\n",
      "Eq(-16*x**2/93 + 10*x*y/93 + 139*x/186 + 29*y**2/372 - 391*y/372 + 1, 0)\n"
     ]
    }
   ],
   "source": [
    "# 5. Bài toán ứng dụng 3: Tính quỹ đạo của hành tinh/vệ tinh \n",
    "from sympy import Matrix, symbols, Eq, solve\n",
    "\n",
    "# Khai báo các biến hệ số a, b, c, d, e, f\n",
    "a, b, c, d, e, f = symbols('a b c d e f')\n",
    "\n",
    "# Nhập 5 điểm nằm trên ellipse (bạn có thể thay bằng điểm cụ thể)\n",
    "points = [(1, 2), (2, 3), (3, 5), (4, 4), (5, 1)]\n",
    "\n",
    "# Tạo hệ phương trình dựa trên phương trình ellipse\n",
    "eqs = []\n",
    "for x, y in points:\n",
    "    eq = a*x**2 + b*x*y + c*y**2 + d*x + e*y + f\n",
    "    eqs.append(eq)\n",
    "\n",
    "# Biểu diễn hệ số dưới dạng ma trận để tìm nghiệm\n",
    "M = Matrix([[eq.coeff(var) for var in [a, b, c, d, e, f]] for eq in eqs])\n",
    "\n",
    "# Tìm không gian nghiệm (nullspace): vì có 6 ẩn - 5 phương trình → nghiệm tỉ lệ\n",
    "nullsp = M.nullspace()\n",
    "\n",
    "if nullsp:\n",
    "    print(\"Tọa độ 5 điểm ellipse:\", points)\n",
    "    print(\"\\nVector nghiệm tỉ lệ [a, b, c, d, e, f]:\")\n",
    "    print(nullsp[0])  # Vector nghiệm duy nhất (dạng tỉ lệ)\n",
    "\n",
    "    # Viết lại phương trình ellipse\n",
    "    a1, b1, c1, d1, e1, f1 = nullsp[0]\n",
    "    x, y = symbols('x y')\n",
    "    ellipse_eq = Eq(a1*x**2 + b1*x*y + c1*y**2 + d1*x + e1*y + f1, 0)\n",
    "    print(\"\\nPhương trình ellipse là:\")\n",
    "    print(ellipse_eq)\n",
    "\n",
    "else:\n",
    "    print(\"Không tồn tại nghiệm không tầm thường (các điểm có thể bị thẳng hàng hoặc trùng nhau).\")\n",
    "\n"
   ]
  },
  {
   "cell_type": "code",
   "execution_count": 25,
   "id": "ce525e12",
   "metadata": {},
   "outputs": [
    {
     "name": "stdout",
     "output_type": "stream",
     "text": [
      "Original matrix A:\n",
      "[[1 2 3]\n",
      " [0 4 5]\n",
      " [1 0 6]]\n",
      "\n",
      "Cofactor matrix:\n",
      "[[ 24.   5.  -4.]\n",
      " [-12.   3.   2.]\n",
      " [ -2.  -5.   4.]]\n",
      "\n",
      "Adjoint matrix:\n",
      "[[ 24. -12.  -2.]\n",
      " [  5.   3.  -5.]\n",
      " [ -4.   2.   4.]]\n"
     ]
    }
   ],
   "source": [
    "# Câu 1: Hãy viết chương trình để tính các ma trận:\n",
    "# a. Ma trận hệ số kép (cofactor matrix).\n",
    "# b. Ma trận liên hợp (adjoint matrix).\n",
    "# Từ một ma trận A nxn cho trước. \n",
    "\n",
    "import numpy as np\n",
    "\n",
    "def get_cofactor_matrix(matrix):\n",
    "    n = len(matrix)\n",
    "    cofactor = np.zeros((n, n))\n",
    "    for i in range(n):\n",
    "        for j in range(n):\n",
    "            # Get minor matrix by excluding i-th row and j-th column\n",
    "            minor = np.delete(np.delete(matrix, i, axis=0), j, axis=1)\n",
    "            # Determinant of minor with (-1)^(i+j) sign\n",
    "            cofactor[i][j] = ((-1) ** (i + j)) * np.linalg.det(minor)\n",
    "    return cofactor\n",
    "\n",
    "def get_adjoint_matrix(matrix):\n",
    "    return get_cofactor_matrix(matrix).T  # Transpose of cofactor matrix\n",
    "\n",
    "# Example usage with a 3x3 matrix\n",
    "A = np.array([[1, 2, 3],\n",
    "              [0, 4, 5],\n",
    "              [1, 0, 6]])\n",
    "\n",
    "print(\"Original matrix A:\")\n",
    "print(A)\n",
    "print(\"\\nCofactor matrix:\")\n",
    "print(get_cofactor_matrix(A))\n",
    "print(\"\\nAdjoint matrix:\")\n",
    "print(get_adjoint_matrix(A))"
   ]
  },
  {
   "cell_type": "code",
   "execution_count": 26,
   "id": "c3256fd2",
   "metadata": {},
   "outputs": [
    {
     "name": "stdout",
     "output_type": "stream",
     "text": [
      "--- Vi du 1: 3 diem khong thang hang ---\n",
      "Phuong trinh duong tron di qua (0, 0), (2, 0), (0, 2) la:\n",
      "Eq(4*x**2 - 8*x + 4*y**2 - 8*y, 0)\n",
      "\n",
      "--- Vi du 2: 3 diem khac ---\n",
      "Phuong trinh duong tron di qua (1, 1), (3, 1), (2, 2) la:\n",
      "Eq(2*x**2 - 8*x + 2*y**2 - 4*y + 8, 0)\n",
      "\n",
      "--- Vi du 3: 3 diem thang hang (khong tao thanh duong tron) ---\n",
      "Phuong trinh (co the la) duong tron di qua (0, 0), (1, 0), (2, 0) la:\n",
      "Eq(y, 0)\n",
      "Luu y: 3 diem nay thang hang, KHONG tao thanh duong tron thuc su.\n"
     ]
    }
   ],
   "source": [
    "from sympy import symbols, Matrix, Eq, expand\n",
    "\n",
    "def tim_phuong_trinh_duong_tron(diem1, diem2, diem3):\n",
    "    # Khai bao bien ky hieu\n",
    "    x, y = symbols('x y')\n",
    "    x1, y1 = diem1\n",
    "    x2, y2 = diem2\n",
    "    x3, y3 = diem3\n",
    "\n",
    "    # Xay dung ma tran theo cong thuc dinh thuc\n",
    "    ma_tran = Matrix([\n",
    "        [x**2 + y**2, x, y, 1],\n",
    "        [x1**2 + y1**2, x1, y1, 1],\n",
    "        [x2**2 + y2**2, x2, y2, 1],\n",
    "        [x3**2 + y3**2, x3, y3, 1]\n",
    "    ])\n",
    "\n",
    "    # Tinh dinh thuc cua ma tran\n",
    "    dinh_thuc = ma_tran.det()\n",
    "\n",
    "    # Phuong trinh duong tron la dinh thuc bang 0\n",
    "    phuong_trinh = Eq(dinh_thuc, 0)\n",
    "    \n",
    "    # Don gian hoa phuong trinh\n",
    "    return phuong_trinh.simplify()\n",
    "\n",
    "if __name__ == \"__main__\":\n",
    "    # Khai bao x, y o day de su dung cho viec kiem tra he so o vi du 3\n",
    "    x, y = symbols('x y') \n",
    "\n",
    "    print(\"--- Vi du 1: 3 diem khong thang hang ---\")\n",
    "    diem_A = (0, 0)\n",
    "    diem_B = (2, 0)\n",
    "    diem_C = (0, 2)\n",
    "    \n",
    "    pt_duong_tron_1 = tim_phuong_trinh_duong_tron(diem_A, diem_B, diem_C)\n",
    "    # Khong can if pt_duong_tron_1: o day nua\n",
    "    print(f\"Phuong trinh duong tron di qua {diem_A}, {diem_B}, {diem_C} la:\")\n",
    "    print(pt_duong_tron_1)\n",
    "\n",
    "    print(\"\\n--- Vi du 2: 3 diem khac ---\")\n",
    "    diem_D = (1, 1)\n",
    "    diem_E = (3, 1)\n",
    "    diem_F = (2, 2)\n",
    "    \n",
    "    pt_duong_tron_2 = tim_phuong_trinh_duong_tron(diem_D, diem_E, diem_F)\n",
    "    # Khong can if pt_duong_tron_2: o day nua\n",
    "    print(f\"Phuong trinh duong tron di qua {diem_D}, {diem_E}, {diem_F} la:\")\n",
    "    print(pt_duong_tron_2)\n",
    "\n",
    "    print(\"\\n--- Vi du 3: 3 diem thang hang (khong tao thanh duong tron) ---\")\n",
    "    diem_G = (0, 0)\n",
    "    diem_H = (1, 0)\n",
    "    diem_I = (2, 0)\n",
    "\n",
    "    pt_duong_tron_3 = tim_phuong_trinh_duong_tron(diem_G, diem_H, diem_I)\n",
    "    # Khong can if pt_duong_tron_3: o day nua\n",
    "    print(f\"Phuong trinh (co the la) duong tron di qua {diem_G}, {diem_H}, {diem_I} la:\")\n",
    "    print(pt_duong_tron_3)\n",
    "        \n",
    "    # Kiem tra xem co phai duong tron thuc su khong (he so x^2 va y^2 khac 0)\n",
    "    bieu_thuc_trai = expand(pt_duong_tron_3.lhs) \n",
    "    he_so_x2 = bieu_thuc_trai.coeff(x**2)\n",
    "    he_so_y2 = bieu_thuc_trai.coeff(y**2)\n",
    "    \n",
    "    if he_so_x2 == 0 and he_so_y2 == 0:\n",
    "        print(\"Luu y: 3 diem nay thang hang, KHONG tao thanh duong tron thuc su.\")\n",
    "    else:\n",
    "        print(\"Day la phuong trinh duong tron hop le.\")"
   ]
  }
 ],
 "metadata": {
  "kernelspec": {
   "display_name": "Python 3",
   "language": "python",
   "name": "python3"
  },
  "language_info": {
   "codemirror_mode": {
    "name": "ipython",
    "version": 3
   },
   "file_extension": ".py",
   "mimetype": "text/x-python",
   "name": "python",
   "nbconvert_exporter": "python",
   "pygments_lexer": "ipython3",
   "version": "3.10.11"
  }
 },
 "nbformat": 4,
 "nbformat_minor": 5
}
