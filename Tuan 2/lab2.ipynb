{
 "cells": [
  {
   "cell_type": "code",
   "execution_count": null,
   "id": "858110bc",
   "metadata": {},
   "outputs": [
    {
     "name": "stdout",
     "output_type": "stream",
     "text": [
      "Vector gốc v: [3, 5, 7]\n",
      "scale(10, v): [30, 50, 70]\n"
     ]
    }
   ],
   "source": [
    "#1. \n",
    "\n",
    "# bài tập 1\n",
    "def scale(a, v):\n",
    "    return [a * vi for vi in v]\n",
    "\n",
    "v = [3, 5, 7]\n",
    "print(f\"Vector gốc v: {v}\") # This line was causing the error\n",
    "scaled_vector = scale(10, v)\n",
    "print(f\"scale(10, v): {scaled_vector}\")\n"
   ]
  },
  {
   "cell_type": "code",
   "execution_count": 3,
   "id": "64febed9",
   "metadata": {},
   "outputs": [
    {
     "name": "stdout",
     "output_type": "stream",
     "text": [
      "56\n"
     ]
    }
   ],
   "source": [
    "# bài tập 4 \n",
    "def dotvector(v, w):\n",
    "    return sum([vi * wi for (vi, wi) in zip(v, w)])\n",
    "\n",
    "def lenvector(v):\n",
    "    return dotvector(v, v)\n",
    "\n",
    "w = [2, 4, 6]\n",
    "result = lenvector(w)\n",
    "print(result)  \n"
   ]
  },
  {
   "cell_type": "code",
   "execution_count": 4,
   "id": "3b837c86",
   "metadata": {},
   "outputs": [
    {
     "name": "stdout",
     "output_type": "stream",
     "text": [
      "68\n"
     ]
    }
   ],
   "source": [
    "#bài tạp 3 \n",
    "def dotvector(v, w):\n",
    "    return sum([vi * wi for (vi, wi) in zip(v, w)])\n",
    "\n",
    "v = [3, 5, 7]\n",
    "w = [2, 4, 6]\n",
    "result = dotvector(v, w)\n",
    "print(result)  \n"
   ]
  },
  {
   "cell_type": "code",
   "execution_count": 5,
   "id": "2187fa8d",
   "metadata": {},
   "outputs": [
    {
     "name": "stdout",
     "output_type": "stream",
     "text": [
      "[5, 9, 13]\n"
     ]
    }
   ],
   "source": [
    "# bài tập 2 \n",
    "def sumvector(v, w):\n",
    "    return [vi + wi for (vi, wi) in zip(v, w)]\n",
    "\n",
    "v = [3, 5, 7]\n",
    "w = [2, 4, 6]\n",
    "result = sumvector(v, w)\n",
    "print(result)  \n"
   ]
  },
  {
   "cell_type": "code",
   "execution_count": 6,
   "id": "b41760da",
   "metadata": {},
   "outputs": [
    {
     "name": "stdout",
     "output_type": "stream",
     "text": [
      "[False  True  True False  True False]\n",
      "[ True False False  True False  True]\n",
      "['so am' 'so duong' 'so duong' 'so am' 'so duong' 'so am']\n"
     ]
    }
   ],
   "source": [
    "# 2. Bài toán ứng dụng 1 – Phân loại tuyến tính\n",
    "\n",
    "import numpy as np\n",
    "\n",
    "scores = np.array([-1, 1, 2, -3, 5, -4])\n",
    "\n",
    "# Kết quả câu lệnh đầu tiên\n",
    "print(scores >= 0)  \n",
    "\n",
    "# Kết quả câu lệnh thứ hai\n",
    "print(scores < 0)  \n",
    "\n",
    "# Kết quả câu lệnh thứ ba\n",
    "classification = np.select([scores > 0, scores < 0], np.array(['so duong', 'so am'], dtype=str), default='khong am khong duong')\n",
    "print(classification)\n",
    "\n"
   ]
  },
  {
   "cell_type": "code",
   "execution_count": 7,
   "id": "9e4da235",
   "metadata": {},
   "outputs": [
    {
     "name": "stdout",
     "output_type": "stream",
     "text": [
      "C:\\Users\\Admin\\AppData\\Local\\Microsoft\\WindowsApps\\PythonSoftwareFoundation.Python.3.13_qbz5n2kfra8p0\\python.exe\n",
      "3.13.3 (tags/v3.13.3:6280bb5, Apr  8 2025, 14:47:33) [MSC v.1943 64 bit (AMD64)]\n"
     ]
    }
   ],
   "source": [
    "import sys\n",
    "print(sys.executable)\n",
    "print(sys.version)"
   ]
  },
  {
   "cell_type": "code",
   "execution_count": null,
   "id": "7cd3de0d",
   "metadata": {},
   "outputs": [
    {
     "name": "stdout",
     "output_type": "stream",
     "text": [
      "Đã nạp thành công thư viện numpy, linalg và sparse.\n"
     ]
    }
   ],
   "source": [
    "# 3.1.\n",
    "\n",
    "# Bài 1: Nạp thư viện NumPy và SciPy\n",
    "import numpy as np\n",
    "from scipy import linalg, sparse\n",
    "\n",
    "print(\"Đã nạp thành công thư viện numpy, linalg và sparse.\")\n"
   ]
  },
  {
   "cell_type": "code",
   "execution_count": 14,
   "id": "406d9a5c",
   "metadata": {},
   "outputs": [
    {
     "name": "stdout",
     "output_type": "stream",
     "text": [
      "[[3 4]\n",
      " [5 6]]\n"
     ]
    }
   ],
   "source": [
    "# bài tập 2 \n",
    "D = np.array([ [3,4], [5,6] ])\n",
    "print(D)"
   ]
  },
  {
   "cell_type": "code",
   "execution_count": 16,
   "id": "384d86bd",
   "metadata": {},
   "outputs": [
    {
     "name": "stdout",
     "output_type": "stream",
     "text": [
      "[[0.95403248 0.46755428 0.27738397 0.86871136 0.38332827 0.18969989\n",
      "  0.10640348]\n",
      " [0.03548194 0.25917938 0.52815646 0.93474952 0.53072967 0.71613089\n",
      "  0.31804014]\n",
      " [0.96678435 0.40942211 0.79613822 0.10644531 0.1693845  0.80440834\n",
      "  0.71568527]\n",
      " [0.80573705 0.03489949 0.57498201 0.30498034 0.95433135 0.26183282\n",
      "  0.54884722]\n",
      " [0.5706719  0.09596422 0.45552258 0.82660241 0.07022433 0.44455449\n",
      "  0.74366155]]\n"
     ]
    }
   ],
   "source": [
    "# bài tập 3 \n",
    "# Bài 3: Khởi tạo ma trận ngẫu nhiên\n",
    "C = np.array(np.random.random((5,7)))\n",
    "print(C)"
   ]
  },
  {
   "cell_type": "code",
   "execution_count": 17,
   "id": "1c2b18bb",
   "metadata": {},
   "outputs": [
    {
     "name": "stdout",
     "output_type": "stream",
     "text": [
      "[[0.99144743 0.61198638]\n",
      " [0.03064123 0.70404588]]\n"
     ]
    }
   ],
   "source": [
    "# bài tập 4 \n",
    "# Bài 4: Khởi tạo ma trận vuông ngẫu nhiên\n",
    "A = np.array(np.random.random((2,2)))\n",
    "print(A)"
   ]
  },
  {
   "cell_type": "code",
   "execution_count": null,
   "id": "3a38853c",
   "metadata": {},
   "outputs": [
    {
     "name": "stdout",
     "output_type": "stream",
     "text": [
      "Mảng b:\n",
      "[[1.+5.j 0.+2.j 0.+3.j]\n",
      " [4.+0.j 5.+0.j 6.+0.j]]\n",
      "\n",
      "Ma trận B:\n",
      "[[1.+5.j 0.+2.j 0.+3.j]\n",
      " [4.+0.j 5.+0.j 6.+0.j]]\n"
     ]
    }
   ],
   "source": [
    "\n",
    "# Bài 5\n",
    "b = np.array([(1+5j, 2j, 3j),(4, 5, 6)])\n",
    "B = np.asmatrix(b)\n",
    "print(\"Mảng b:\")\n",
    "print(b)\n",
    "print(\"\\nMa trận B:\")\n",
    "print(B)"
   ]
  },
  {
   "cell_type": "code",
   "execution_count": null,
   "id": "dc53cca4",
   "metadata": {},
   "outputs": [],
   "source": [
    "\n",
    "# Bài 6: Chuyển vị ma trận\n",
    "A_transposed = A.T\n",
    "print(\"Ma trận A gốc:\")\n",
    "print(A)\n",
    "print(\"\\nMa trận A chuyển vị (A.T):\")\n",
    "print(A_transposed)"
   ]
  },
  {
   "cell_type": "code",
   "execution_count": null,
   "id": "432c6fb3",
   "metadata": {},
   "outputs": [
    {
     "name": "stdout",
     "output_type": "stream",
     "text": [
      "Ma trận A gốc:\n",
      "[[0.0304825  0.790939  ]\n",
      " [0.11909748 0.62157822]]\n",
      "\n",
      "Ma trận A nghịch đảo (linalg.inv(A)):\n",
      "[[-8.26000214 10.51059638]\n",
      " [ 1.58265744 -0.40507451]]\n"
     ]
    }
   ],
   "source": [
    "# Bài 7: Ma trận nghịch đảo\n",
    "import numpy as np\n",
    "from scipy import linalg\n",
    "A = np.array(np.random.random((2,2)))\n",
    "print(\"Ma trận A gốc:\")\n",
    "print(A)\n",
    "\n",
    "A_inverse = linalg.inv(A)\n",
    "print(\"\\nMa trận A nghịch đảo (linalg.inv(A)):\")\n",
    "print(A_inverse)"
   ]
  },
  {
   "cell_type": "code",
   "execution_count": 26,
   "id": "4568b6a7",
   "metadata": {},
   "outputs": [
    {
     "name": "stdout",
     "output_type": "stream",
     "text": [
      "Ma trận M gốc:\n",
      "[[-1  3  2]\n",
      " [ 0 -2  1]\n",
      " [ 1  5 -2]]\n",
      "\n",
      "Ma trận dưới từ đường chéo (M_lower):\n",
      "[[-1  0  0]\n",
      " [ 0 -2  0]\n",
      " [ 1  5 -2]]\n"
     ]
    }
   ],
   "source": [
    "# Bài 8: Ma trận dưới từ đường chéo\n",
    "M = np.array([[-1,3,2],[0,-2,1],[1,5,-2]])\n",
    "M_lower = np.tril(M)\n",
    "print(\"Ma trận M gốc:\")\n",
    "print(M)\n",
    "print(\"\\nMa trận dưới từ đường chéo (M_lower):\")\n",
    "print(M_lower)"
   ]
  },
  {
   "cell_type": "code",
   "execution_count": 28,
   "id": "30b4beef",
   "metadata": {},
   "outputs": [
    {
     "name": "stdout",
     "output_type": "stream",
     "text": [
      "Ma trận M gốc:\n",
      "[[-1  3  2]\n",
      " [ 0 -2  1]\n",
      " [ 1  5 -2]]\n",
      "\n",
      "Ma trận trên từ đường chéo (M_upper):\n",
      "[[-1  3  2]\n",
      " [ 0 -2  1]\n",
      " [ 0  0 -2]]\n"
     ]
    }
   ],
   "source": [
    "# Bài 9: Ma trận trên từ đường chéo\n",
    "M = np.array([[-1,3,2],[0,-2,1],[1,5,-2]])\n",
    "M_upper = np.triu(M)\n",
    "print(\"Ma trận M gốc:\")\n",
    "print(M)\n",
    "print(\"\\nMa trận trên từ đường chéo (M_upper):\")\n",
    "print(M_upper)"
   ]
  },
  {
   "cell_type": "code",
   "execution_count": 34,
   "id": "3165d143",
   "metadata": {},
   "outputs": [
    {
     "name": "stdout",
     "output_type": "stream",
     "text": [
      "Ma trận M gốc:\n",
      "[[-1  3  2]\n",
      " [ 0 -2  1]\n",
      " [ 1  5 -2]]\n",
      "\n",
      "Vector đường chéo (v_diag):\n",
      "[-1 -2 -2]\n",
      "\n",
      "Ma trận đường chéo từ vector (M_diag):\n",
      "[[-1  0  0]\n",
      " [ 0 -2  0]\n",
      " [ 0  0 -2]]\n"
     ]
    }
   ],
   "source": [
    "# Bài 10: Vector và ma trận đường chéo\n",
    "M = np.array([[-1,3,2],[0,-2,1],[1,5,-2]])\n",
    "v_diag = np.diag(M) #vector đường chéo\n",
    "print(\"Ma trận M gốc:\")\n",
    "print(M)\n",
    "print(\"\\nVector đường chéo (v_diag):\")\n",
    "print(v_diag)\n",
    "\n",
    "M_diag = np.diag(v_diag) # ma trận đường chéo từ vector\n",
    "print(\"\\nMa trận đường chéo từ vector (M_diag):\")\n",
    "print(M_diag)"
   ]
  },
  {
   "cell_type": "code",
   "execution_count": 32,
   "id": "2aac1996",
   "metadata": {},
   "outputs": [
    {
     "name": "stdout",
     "output_type": "stream",
     "text": [
      "Ma trận A:\n",
      "[[ 0.  1.  2.  3.  4.  5.]\n",
      " [ 6.  7.  8.  9. 10. 11.]\n",
      " [12. 13. 14. 15. 16. 17.]\n",
      " [18. 19. 20. 21. 22. 23.]\n",
      " [24. 25. 26. 27. 28. 29.]\n",
      " [30. 31. 32. 33. 34. 35.]]\n"
     ]
    }
   ],
   "source": [
    "#3.2\n",
    "import numpy as np\n",
    "A = np.reshape(np.arange(36.0), (6,6))\n",
    "print(\"Ma trận A:\")\n",
    "print(A)"
   ]
  },
  {
   "cell_type": "code",
   "execution_count": 31,
   "id": "13540be7",
   "metadata": {},
   "outputs": [
    {
     "name": "stdout",
     "output_type": "stream",
     "text": [
      "\n",
      "Ma trận đơn vị I6:\n",
      "[[1. 0. 0. 0. 0. 0.]\n",
      " [0. 1. 0. 0. 0. 0.]\n",
      " [0. 0. 1. 0. 0. 0.]\n",
      " [0. 0. 0. 1. 0. 0.]\n",
      " [0. 0. 0. 0. 1. 0.]\n",
      " [0. 0. 0. 0. 0. 1.]]\n"
     ]
    }
   ],
   "source": [
    "# Xây dựng ma trận đơn vị 6x6 \"I6\"\n",
    "I6 = np.identity(6)\n",
    "print(\"\\nMa trận đơn vị I6:\")\n",
    "print(I6)"
   ]
  },
  {
   "cell_type": "code",
   "execution_count": null,
   "id": "179af836",
   "metadata": {},
   "outputs": [
    {
     "name": "stdout",
     "output_type": "stream",
     "text": [
      "\n",
      "Kích thước của ma trận A (tổng số phần tử):\n",
      "4\n"
     ]
    }
   ],
   "source": [
    "# Xem kích thước của ma trận A\n",
    "print(\"\\nKích thước của ma trận A :\")\n",
    "print(A.size)"
   ]
  },
  {
   "cell_type": "code",
   "execution_count": null,
   "id": "393009d2",
   "metadata": {},
   "outputs": [
    {
     "name": "stdout",
     "output_type": "stream",
     "text": [
      "\n",
      "Đường chéo của ma trận A (sử dụng np.diag(A)):\n",
      "[0.0304825  0.62157822]\n"
     ]
    }
   ],
   "source": [
    "# In đường chéo của ma trận A\n",
    "print(\"\\nĐường chéo của ma trận A ():\")\n",
    "print(np.diag(A))"
   ]
  },
  {
   "cell_type": "code",
   "execution_count": 35,
   "id": "8a741fd5",
   "metadata": {},
   "outputs": [
    {
     "name": "stdout",
     "output_type": "stream",
     "text": [
      "\n",
      "Ma trận A sau cộng I6:\n",
      "[[ 1.  1.  2.  3.  4.  5.]\n",
      " [ 6.  8.  8.  9. 10. 11.]\n",
      " [12. 13. 15. 15. 16. 17.]\n",
      " [18. 19. 20. 22. 22. 23.]\n",
      " [24. 25. 26. 27. 29. 29.]\n",
      " [30. 31. 32. 33. 34. 36.]]\n"
     ]
    }
   ],
   "source": [
    "# Cộng ma trận A với ma trận đơn vị I6\n",
    "A = A + I6\n",
    "print(\"\\nMa trận A sau cộng I6:\")\n",
    "print(A)"
   ]
  },
  {
   "cell_type": "code",
   "execution_count": null,
   "id": "2598935c",
   "metadata": {},
   "outputs": [
    {
     "name": "stdout",
     "output_type": "stream",
     "text": [
      "\n",
      "Vector vecB:\n",
      "[1. 2. 3. 4. 5. 6.]\n",
      "\n",
      "Kết quả tích C = A.dot(vecB):\n",
      "[ 71. 198. 325. 452. 579. 706.]\n"
     ]
    }
   ],
   "source": [
    "\n",
    "vecB = np.array([1., 2., 3., 4., 5., 6.])\n",
    "print(\"\\nVector vecB:\")\n",
    "print(vecB)\n",
    "C = A.dot(vecB)\n",
    "print(\"\\nKết quả tích C = A.dot(vecB):\")\n",
    "print(C)"
   ]
  },
  {
   "cell_type": "code",
   "execution_count": 37,
   "id": "a2f15cc3",
   "metadata": {},
   "outputs": [
    {
     "name": "stdout",
     "output_type": "stream",
     "text": [
      "\n",
      "Ma trận D:\n",
      "[[1. 2. 3. 4. 5. 6.]\n",
      " [1. 0. 1. 0. 1. 0.]]\n"
     ]
    }
   ],
   "source": [
    "# ma trận D 2x6\n",
    "D = np.array([[1., 2., 3., 4., 5., 6.], [1., 0., 1., 0., 1., 0.]])\n",
    "print(\"\\nMa trận D:\")\n",
    "print(D)"
   ]
  },
  {
   "cell_type": "code",
   "execution_count": 39,
   "id": "878fd943",
   "metadata": {},
   "outputs": [
    {
     "name": "stdout",
     "output_type": "stream",
     "text": [
      "\n",
      "Ma trận F:\n",
      "[[1. 1.]\n",
      " [2. 0.]\n",
      " [3. 1.]\n",
      " [4. 0.]\n",
      " [5. 1.]\n",
      " [6. 0.]]\n"
     ]
    }
   ],
   "source": [
    "# Xây dựng ma trận F kích thước 6x2\n",
    "F = np.array([[1., 1.], [2., 0.], [3., 1.], [4., 0.], [5., 1.], [6., 0.]])\n",
    "print(\"\\nMa trận F:\")\n",
    "print(F)"
   ]
  },
  {
   "cell_type": "code",
   "execution_count": 40,
   "id": "856dfe5e",
   "metadata": {},
   "outputs": [
    {
     "name": "stdout",
     "output_type": "stream",
     "text": [
      "\n",
      "Kết quả tích G = A.dot(F):\n",
      "[[ 71.   7.]\n",
      " [198.  24.]\n",
      " [325.  43.]\n",
      " [452.  60.]\n",
      " [579.  79.]\n",
      " [706.  96.]]\n"
     ]
    }
   ],
   "source": [
    "# Tính tích ma trận A và F\n",
    "G = A.dot(F)\n",
    "print(\"\\nKết quả tích G = A.dot(F):\")\n",
    "print(G)"
   ]
  },
  {
   "cell_type": "code",
   "execution_count": 41,
   "id": "789e4f9b",
   "metadata": {},
   "outputs": [
    {
     "name": "stdout",
     "output_type": "stream",
     "text": [
      "\n",
      "Ma trận nghịch đảo của A (np.linalg.inv(A)):\n",
      "[[ 0.37022901 -0.45610687 -0.28244275 -0.10877863  0.0648855   0.23854962]\n",
      " [-0.44656489  0.65839695 -0.23664122 -0.13167939 -0.02671756  0.07824427]\n",
      " [-0.26335878 -0.22709924  0.80916031 -0.15458015 -0.11832061 -0.08206107]\n",
      " [-0.08015267 -0.11259542 -0.14503817  0.82251908 -0.20992366 -0.24236641]\n",
      " [ 0.10305344  0.0019084  -0.09923664 -0.20038168  0.69847328 -0.40267176]\n",
      " [ 0.28625954  0.11641221 -0.05343511 -0.22328244 -0.39312977  0.4370229 ]]\n"
     ]
    }
   ],
   "source": [
    "# Tính ma trận nghịch đảo của A\n",
    "inv_A = np.linalg.inv(A)\n",
    "print(\"\\nMa trận nghịch đảo của A (np.linalg.inv(A)):\")\n",
    "print(inv_A)"
   ]
  },
  {
   "cell_type": "code",
   "execution_count": 1,
   "id": "b842e681",
   "metadata": {},
   "outputs": [
    {
     "name": "stdout",
     "output_type": "stream",
     "text": [
      "[1 1]\n",
      "[2 1]\n",
      "[3 2]\n",
      "[5 3]\n",
      "[8 5]\n",
      "[13  8]\n",
      "[21 13]\n",
      "[34 21]\n",
      "[55 34]\n",
      "[89 55]\n"
     ]
    }
   ],
   "source": [
    "# Bài toán ứng dụng 2 – Tính toán dãy Fibonacci: Con đường tìm đến tỉ số vàng!\n",
    "import numpy as np\n",
    "A = np.array( [ [1,1], [1,0] ] )\n",
    "b = np.array([1, 0])\n",
    "n = 10\n",
    "for i in range(n):\n",
    "    b = A.dot(b)\n",
    "    print(b)"
   ]
  },
  {
   "cell_type": "code",
   "execution_count": 2,
   "id": "5cd6b780",
   "metadata": {},
   "outputs": [
    {
     "name": "stdout",
     "output_type": "stream",
     "text": [
      "Nghiệm của hệ phương trình là: [2.2 1.2]\n"
     ]
    }
   ],
   "source": [
    "# 5. Cơ bản về hệ phương trình tuyến tính và ứng dụng minh họa\n",
    "# 5.1. Làm quen với giải hệ phương trình tuyến tính \n",
    "\n",
    "import numpy as np\n",
    "\n",
    "# Bước 1: Thành lập ma trận A và vector b\n",
    "A = np.array([[2, 3],\n",
    "              [1, -1]])\n",
    "b = np.array([8, 1])\n",
    "\n",
    "# Bước 2: Tính toán ma trận nghịch đảo của A\n",
    "A_inv = np.linalg.inv(A)\n",
    "\n",
    "# Bước 3: Tìm nghiệm x bằng cách nhân A⁻¹ với b\n",
    "x = A_inv @ b\n",
    "\n",
    "print(\"Nghiệm của hệ phương trình là:\", x)\n"
   ]
  },
  {
   "cell_type": "code",
   "execution_count": 1,
   "id": "918d63d8",
   "metadata": {},
   "outputs": [
    {
     "name": "stdout",
     "output_type": "stream",
     "text": [
      "{x1: x4 + 160, x2: x4 - 80, x3: x4 + 520}\n"
     ]
    }
   ],
   "source": [
    "# 5.2. Bài toán ứng dụng 3 – Đếm số lượng xe vào khu vực trung tâm\n",
    "\n",
    "import sympy as sp\n",
    "from sympy import Symbol\n",
    "x1 = Symbol('x1')\n",
    "x2 = Symbol('x2')\n",
    "x3 = Symbol('x3')\n",
    "x4 = Symbol('x4')\n",
    "from sympy import solve\n",
    "pt1 = x4+610-450-x1\n",
    "pt2 = x1+400-x2-640\n",
    "pt3 = x2+600-x3\n",
    "pt4 = x3-x4-520\n",
    "nghiem = sp.solve((pt1, pt2, pt3, pt4))\n",
    "print(nghiem)"
   ]
  },
  {
   "cell_type": "code",
   "execution_count": 5,
   "id": "18bae85a",
   "metadata": {},
   "outputs": [
    {
     "name": "stdout",
     "output_type": "stream",
     "text": [
      "Ma trận nghịch đảo của A là:\n",
      " [[ -0.           1.11111111  -1.11111111]\n",
      " [ -0.           0.11111111  -1.11111111]\n",
      " [ 10.          11.11111111 -11.11111111]]\n"
     ]
    }
   ],
   "source": [
    "# Bài tập: Sinh viên thử bằng phương pháp nhân ma trận: \n",
    "A = np.array([[-1, 0, 0.1],\n",
    "              [1, -1, 0.0],\n",
    "              [0.1, -1.0, 0]])\n",
    "\n",
    "A_nghichdao = np.linalg.inv(A)\n",
    "\n",
    "print(\"Ma trận nghịch đảo của A là:\\n\", A_nghichdao)\n",
    "\n",
    "\n"
   ]
  },
  {
   "cell_type": "code",
   "execution_count": 2,
   "id": "629b295d",
   "metadata": {},
   "outputs": [
    {
     "name": "stdout",
     "output_type": "stream",
     "text": [
      "Problem 1 (SymPy) - Giao điểm 2 đường thẳng: {x: 0, y: 2}\n"
     ]
    }
   ],
   "source": [
    "# Câu 2: Hãy viết các câu lệnh của sympy để giải các phương trình ở Câu 1. \n",
    "#Vấn đề 1 (Problem 1):\n",
    "from sympy import symbols, solve\n",
    "\n",
    "x, y = symbols('x y')\n",
    "eq1 = x - y + 2  # x - y = -2  => x - y + 2 = 0\n",
    "eq2 = 2*x + 3*y - 6 # 2x + 3y = 6 => 2x + 3y - 6 = 0\n",
    "solution = solve((eq1, eq2), (x, y))\n",
    "print(\"Problem 1 (SymPy) - Giao điểm 2 đường thẳng:\", solution)"
   ]
  },
  {
   "cell_type": "code",
   "execution_count": null,
   "id": "bf25924c",
   "metadata": {},
   "outputs": [
    {
     "name": "stdout",
     "output_type": "stream",
     "text": [
      "Problem 2 (SymPy) - Giao điểm 3 mặt phẳng: {x: 3, y: 1, z: 2}\n"
     ]
    }
   ],
   "source": [
    "#Vấn đề 22 (Problem 2):\n",
    "from sympy import symbols, solve\n",
    "\n",
    "x, y, z = symbols('x y z')\n",
    "eq1 = x - y - 2     # x - y = 2  => x - y - 2 = 0\n",
    "eq2 = 2*x - y - z - 3 # 2x - y - z = 3 => 2x - y - z - 3 = 0\n",
    "eq3 = x + y + z - 6   # x + y + z = 6  => x + y + z - 6 = 0\n",
    "solution = solve((eq1, eq2, eq3), (x, y, z))\n",
    "print(\"Problem 2 (SymPy) - Giao điểm 3 mặt phẳng:\", solution)"
   ]
  },
  {
   "cell_type": "code",
   "execution_count": null,
   "id": "faab74a5",
   "metadata": {},
   "outputs": [
    {
     "name": "stdout",
     "output_type": "stream",
     "text": [
      "Problem 3 (SymPy) - Hệ số đa thức: {a: 1, b: -4, c: 7}\n"
     ]
    }
   ],
   "source": [
    "#Vấn đề 3 (Problem 33):\n",
    "from sympy import symbols, solve\n",
    "\n",
    "a, b, c = symbols('a b c')\n",
    "# P(x) = a*x**2 + b*x + c\n",
    "eq1 = a*(1)**2 + b*(1) + c - 4 # P(1) = 4 => a + b + c - 4 = 0\n",
    "eq2 = a*(2)**2 + b*(2) + c - 3 # P(2) = 3 => 4a + 2b + c - 3 = 0\n",
    "eq3 = a*(3)**2 + b*(3) + c - 4 # P(3) = 4 => 9a + 3b + c - 4 = 0\n",
    "solution = solve((eq1, eq2, eq3), (a, b, c))\n",
    "print(\"Problem 3 (SymPy) - Hệ số đa thức:\", solution)"
   ]
  },
  {
   "cell_type": "code",
   "execution_count": null,
   "id": "ea6d3758",
   "metadata": {},
   "outputs": [
    {
     "name": "stdout",
     "output_type": "stream",
     "text": [
      "Problem 4 (SymPy) - Phân tích phân số một phần: -5/(9*(x + 2)) + 5/(9*(x - 1)) - 2/(3*(x - 1)**2)\n",
      "Problem 4 (SymPy) - Hệ số A, B, C từ hệ phương trình: {A: 5/9, B: -2/3, C: -5/9}\n"
     ]
    }
   ],
   "source": [
    "#Vấn đề 4 (Problem 4):\n",
    "from sympy import symbols, apart\n",
    "\n",
    "x = symbols('x')\n",
    "expr = (x - 3) / ((x - 1)**2 * (x + 2))\n",
    "partial_fraction_decomposition = apart(expr)\n",
    "print(\"Problem 4 (SymPy) - Phân tích phân số một phần:\", partial_fraction_decomposition)\n",
    "\n",
    "# Để kiểm tra lại các hệ số A, B, C, bạn có thể đồng nhất hệ số như đã làm ở trên và giải bằng SymPy:\n",
    "A, B, C = symbols('A B C')\n",
    "# Từ việc đồng nhất hệ số ở trên:\n",
    "eq_A_C = A + C\n",
    "eq_A_B_2C = A + B - 2*C - 1\n",
    "eq_neg2A_2B_C = -2*A + 2*B + C + 3\n",
    "solution_coeffs = solve((eq_A_C, eq_A_B_2C, eq_neg2A_2B_C), (A, B, C))\n",
    "print(\"Problem 4 (SymPy) - Hệ số A, B, C từ hệ phương trình:\", solution_coeffs)"
   ]
  },
  {
   "cell_type": "markdown",
   "id": "4c374413",
   "metadata": {},
   "source": [
    "# BÀI TẬP CHƯƠNG 2 \n"
   ]
  },
  {
   "cell_type": "code",
   "execution_count": 6,
   "id": "470992b0",
   "metadata": {},
   "outputs": [
    {
     "name": "stdout",
     "output_type": "stream",
     "text": [
      "Giao điểm của hai đường thẳng là (x, y): [0. 2.]\n"
     ]
    }
   ],
   "source": [
    "# BÀI TẬP CHƯƠNG 2\n",
    "# Câu 1: Hãy sử dụng numpy để giải các phương trình sau:    \n",
    "# Vấn đề 1:\n",
    "\n",
    "import numpy as np\n",
    "\n",
    "# Ma trận hệ số A và vector hệ số tự do b\n",
    "A = np.array([[1, -1], \n",
    "              [2, 3]])\n",
    "b = np.array([-2, 6])\n",
    "\n",
    "# Giải hệ phương trình tuyến tính\n",
    "nghiem = np.linalg.solve(A, b)\n",
    "\n",
    "# In kết quả\n",
    "print(\"Giao điểm của hai đường thẳng là (x, y):\", nghiem)\n"
   ]
  },
  {
   "cell_type": "code",
   "execution_count": 7,
   "id": "cc993866",
   "metadata": {},
   "outputs": [
    {
     "name": "stdout",
     "output_type": "stream",
     "text": [
      "Giao điểm của ba mặt phẳng là (x, y, z): [3. 1. 2.]\n"
     ]
    }
   ],
   "source": [
    "# Vấn đề 2:\n",
    "import numpy as np\n",
    "\n",
    "# Ma trận hệ số A và vector hằng số b\n",
    "A = np.array([[1, -1, 0], \n",
    "              [2, -1, -1], \n",
    "              [1, 1, 1]])\n",
    "b = np.array([2, 3, 6])\n",
    "\n",
    "# Giải hệ phương trình tuyến tính\n",
    "nghiem = np.linalg.solve(A, b)\n",
    "\n",
    "# In kết quả\n",
    "print(\"Giao điểm của ba mặt phẳng là (x, y, z):\", nghiem)\n"
   ]
  },
  {
   "cell_type": "code",
   "execution_count": 8,
   "id": "78db7916",
   "metadata": {},
   "outputs": [
    {
     "name": "stdout",
     "output_type": "stream",
     "text": [
      "Hệ số đa thức là: a = 1.0000000000000002, b = -4.000000000000001, c = 7.000000000000001\n",
      "Suy ra: p(x) = 1.00x² + -4.00x + 7.00\n"
     ]
    }
   ],
   "source": [
    "# Vấn đề 3:\n",
    "import numpy as np\n",
    "\n",
    "# Ma trận hệ số A và vector kết quả b\n",
    "A = np.array([[1, 1, 1],\n",
    "              [4, 2, 1],\n",
    "              [9, 3, 1]])\n",
    "b = np.array([4, 3, 4])\n",
    "\n",
    "# Giải hệ phương trình\n",
    "he_so = np.linalg.solve(A, b)\n",
    "\n",
    "# In hệ số a, b, c\n",
    "a, b, c = he_so\n",
    "print(f\"Hệ số đa thức là: a = {a}, b = {b}, c = {c}\")\n",
    "print(f\"Suy ra: p(x) = {a:.2f}x² + {b:.2f}x + {c:.2f}\")\n"
   ]
  },
  {
   "cell_type": "code",
   "execution_count": 9,
   "id": "057f5299",
   "metadata": {},
   "outputs": [
    {
     "name": "stdout",
     "output_type": "stream",
     "text": [
      "Hệ số tìm được là: a = -0.5, b = 1.5, c = -1.0\n"
     ]
    }
   ],
   "source": [
    "# Vấn đề 4:\n",
    "\n",
    "import numpy as np\n",
    "\n",
    "# Hệ phương trình tuyến tính:\n",
    "# a + b = 1\n",
    "# a + c - b = -3\n",
    "# 2a - c = 0\n",
    "\n",
    "# Ma trận hệ số\n",
    "A = np.array([\n",
    "    [1, 1, 0],\n",
    "    [1, -1, 1],\n",
    "    [2, 0, -1]\n",
    "])\n",
    "\n",
    "# Vector kết quả\n",
    "B = np.array([1, -3, 0])\n",
    "\n",
    "# Giải hệ\n",
    "nghiem = np.linalg.solve(A, B)\n",
    "a, b, c = nghiem\n",
    "\n",
    "print(f\"Hệ số tìm được là: a = {a}, b = {b}, c = {c}\")\n"
   ]
  },
  {
   "cell_type": "code",
   "execution_count": 10,
   "id": "bd6357e9",
   "metadata": {},
   "outputs": [
    {
     "name": "stdout",
     "output_type": "stream",
     "text": [
      "Ma trận F^5:\n",
      "⎡8  5⎤\n",
      "⎢    ⎥\n",
      "⎣5  3⎦\n",
      "\n",
      "Fibo_6 = 8\n",
      "Fibo_5   = 5\n",
      "Fibo_4 = 3\n"
     ]
    }
   ],
   "source": [
    "# Câu 3:\n",
    "from sympy import Matrix, pprint\n",
    "\n",
    "def fibonacci_matrix_power(k):\n",
    "    # Ma trận Fibonacci cơ bản\n",
    "    A = Matrix([[1, 1],\n",
    "                [1, 0]])\n",
    "    \n",
    "    # Lũy thừa k\n",
    "    Ak = A**k\n",
    "    return Ak\n",
    "\n",
    "# Ví dụ: tính F_k với k = 5\n",
    "k = 5\n",
    "Fk = fibonacci_matrix_power(k)\n",
    "\n",
    "print(f\"Ma trận F^{k}:\")\n",
    "pprint(Fk)\n",
    "\n",
    "# Các phần tử tương ứng:\n",
    "F_k_plus_1 = Fk[0, 0]\n",
    "F_k = Fk[0, 1]\n",
    "F_k_minus_1 = Fk[1, 1]\n",
    "\n",
    "print(f\"\\nFibo_{k+1} =\", F_k_plus_1)\n",
    "print(f\"Fibo_{k}   =\", F_k)\n",
    "print(f\"Fibo_{k-1} =\", F_k_minus_1)\n"
   ]
  }
 ],
 "metadata": {
  "kernelspec": {
   "display_name": "Python 3",
   "language": "python",
   "name": "python3"
  },
  "language_info": {
   "codemirror_mode": {
    "name": "ipython",
    "version": 3
   },
   "file_extension": ".py",
   "mimetype": "text/x-python",
   "name": "python",
   "nbconvert_exporter": "python",
   "pygments_lexer": "ipython3",
   "version": "3.13.3"
  }
 },
 "nbformat": 4,
 "nbformat_minor": 5
}
