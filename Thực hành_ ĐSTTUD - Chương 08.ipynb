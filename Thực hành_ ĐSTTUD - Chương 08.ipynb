{
 "cells": [
  {
   "cell_type": "markdown",
   "id": "42d85842",
   "metadata": {},
   "source": [
    "Thực hành_ ĐSTTUD - Chương 08"
   ]
  },
  {
   "cell_type": "markdown",
   "id": "3014e37a",
   "metadata": {},
   "source": [
    "1.1 - Các phép toán cơ bản với vector"
   ]
  },
  {
   "cell_type": "code",
   "execution_count": 23,
   "id": "99140932",
   "metadata": {},
   "outputs": [
    {
     "name": "stdout",
     "output_type": "stream",
     "text": [
      "1.1.a: [ 18 -11   9  -8]\n",
      "1.1.b: [ 9.  -5.5  4.5 -4. ]\n"
     ]
    }
   ],
   "source": [
    "import numpy as np\n",
    "\n",
    "u = np.array([2,-1,5,0])\n",
    "v = np.array([4,3,1,-1])\n",
    "w = np.array([-6,2,0,3])\n",
    "\n",
    "x1 = 2*u - (v + 3*w)\n",
    "print(\"1.1.a:\", x1)\n",
    "\n",
    "x2 = 0.5*(2*u - v - 3*w)\n",
    "print(\"1.1.b:\", x2)"
   ]
  },
  {
   "cell_type": "markdown",
   "id": "49bbd5cd",
   "metadata": {},
   "source": [
    "1.2 - Giải hệ tìm tổ hợp tuyến tính"
   ]
  },
  {
   "cell_type": "code",
   "execution_count": 24,
   "id": "5298fd2e",
   "metadata": {},
   "outputs": [
    {
     "name": "stdout",
     "output_type": "stream",
     "text": [
      "1.2: [ 1. -2. -1.]\n"
     ]
    }
   ],
   "source": [
    "from numpy import linalg\n",
    "\n",
    "A = np.array([[0, -1, 3], [1, 1, 1], [4, 2, 2]])\n",
    "B = np.array([-1, -2, -2])\n",
    "X = np.linalg.solve(A, B)\n",
    "print(\"1.2:\", X)"
   ]
  },
  {
   "cell_type": "markdown",
   "id": "50c3cd7a",
   "metadata": {},
   "source": [
    "1.3 - Kiểm tra không gian con các ma trận không khả nghịch"
   ]
  },
  {
   "cell_type": "code",
   "execution_count": 25,
   "id": "82db84f3",
   "metadata": {},
   "outputs": [
    {
     "name": "stdout",
     "output_type": "stream",
     "text": [
      "1.3 inv(A): Singular matrix\n",
      "1.3 inv(B): Singular matrix\n",
      "1.3 inv(A+B): [[1. 0.]\n",
      " [0. 1.]]\n",
      "1.3 det(A): 0.0\n",
      "1.3 det(B): 0.0\n",
      "1.3 det(A+B): 1.0\n"
     ]
    }
   ],
   "source": [
    "A = np.matrix([[1, 0], [0, 0]])\n",
    "B = np.matrix([[0, 0], [0, 1]])\n",
    "from numpy.linalg import inv, det\n",
    "\n",
    "try:\n",
    "    inv_A = inv(A)\n",
    "except Exception as e:\n",
    "    inv_A = str(e)\n",
    "try:\n",
    "    inv_B = inv(B)\n",
    "except Exception as e:\n",
    "    inv_B = str(e)\n",
    "inv_sum = inv(A + B)\n",
    "\n",
    "print(\"1.3 inv(A):\", inv_A)\n",
    "print(\"1.3 inv(B):\", inv_B)\n",
    "print(\"1.3 inv(A+B):\", inv_sum)\n",
    "\n",
    "print(\"1.3 det(A):\", det(A))\n",
    "print(\"1.3 det(B):\", det(B))\n",
    "print(\"1.3 det(A+B):\", det(A+B))"
   ]
  },
  {
   "cell_type": "markdown",
   "id": "fd78cc2a",
   "metadata": {},
   "source": [
    "1.4 - Tập các ma trận đối xứng là không gian con"
   ]
  },
  {
   "cell_type": "code",
   "execution_count": 26,
   "id": "e450e93b",
   "metadata": {},
   "outputs": [
    {
     "name": "stdout",
     "output_type": "stream",
     "text": [
      "1.4: True\n"
     ]
    }
   ],
   "source": [
    "import sympy as sp\n",
    "x, y = sp.symbols('x y')\n",
    "A = sp.Matrix([[x, y], [y, x]])\n",
    "c = sp.symbols('c')\n",
    "print(\"1.4:\", ((c*A).T).equals(c*A))"
   ]
  },
  {
   "cell_type": "markdown",
   "id": "725dfdcb",
   "metadata": {},
   "source": [
    "1.5 - Kiểm tra tổ hợp tuyến tính"
   ]
  },
  {
   "cell_type": "code",
   "execution_count": 27,
   "id": "432a763f",
   "metadata": {},
   "outputs": [
    {
     "name": "stdout",
     "output_type": "stream",
     "text": [
      "1.5: {a: c + 1, b: -2*c - 1}\n"
     ]
    }
   ],
   "source": [
    "a, b, c = sp.symbols('a b c')\n",
    "v1 = sp.Matrix([1,2,3])\n",
    "v2 = sp.Matrix([0,1,2])\n",
    "v3 = sp.Matrix([-1,0,1])\n",
    "target = sp.Matrix([1,1,1])\n",
    "eqs = a*v1 + b*v2 + c*v3 - target\n",
    "sol = sp.solve(eqs, (a,b,c))\n",
    "print(\"1.5:\", sol)"
   ]
  },
  {
   "cell_type": "markdown",
   "id": "afb51d7f",
   "metadata": {},
   "source": [
    "1.6 - Kiểm tra độc lập tuyến tính"
   ]
  },
  {
   "cell_type": "code",
   "execution_count": 28,
   "id": "4b8601da",
   "metadata": {},
   "outputs": [
    {
     "name": "stdout",
     "output_type": "stream",
     "text": [
      "1.6: {c1: 0, c2: 0, c3: 0}\n"
     ]
    }
   ],
   "source": [
    "c1, c2, c3 = sp.symbols('c1 c2 c3')\n",
    "res = sp.solve([c1 - 2*c3, 2*c1 + c2, 3*c1 + 2*c2 + c3], (c1, c2, c3))\n",
    "print(\"1.6:\", res)"
   ]
  },
  {
   "cell_type": "markdown",
   "id": "f2a21ae0",
   "metadata": {},
   "source": [
    "1.7 - Kiểm tra cơ sở"
   ]
  },
  {
   "cell_type": "code",
   "execution_count": 29,
   "id": "d6a118d6",
   "metadata": {},
   "outputs": [
    {
     "name": "stdout",
     "output_type": "stream",
     "text": [
      "1.7 (biến): {c1: u1/2 + u2/2, c2: u1/2 - u2/2}\n",
      "1.7 (gốc): {c1: 0, c2: 0}\n"
     ]
    }
   ],
   "source": [
    "c1, c2 = sp.symbols('c1 c2')\n",
    "u1, u2 = sp.symbols('u1 u2')\n",
    "sol1 = sp.solve([c1 + c2 - u1, c1 - c2 - u2], (c1, c2))\n",
    "print(\"1.7 (biến):\", sol1)\n",
    "sol2 = sp.solve([c1 + c2, c1 - c2], (c1, c2))\n",
    "print(\"1.7 (gốc):\", sol2)"
   ]
  },
  {
   "cell_type": "markdown",
   "id": "174d53bf",
   "metadata": {},
   "source": [
    "2.1 - Biến đổi tuyến tính: tịnh tiến"
   ]
  },
  {
   "cell_type": "code",
   "execution_count": 30,
   "id": "c2d406db",
   "metadata": {},
   "outputs": [
    {
     "name": "stdout",
     "output_type": "stream",
     "text": [
      "2.1 Tịnh tiến: [[4 4 7 7 5 5 6 6 5 5]\n",
      " [2 7 7 6 6 5 5 4 4 2]]\n"
     ]
    }
   ],
   "source": [
    "P = np.array([[0,0,3,3,1,1,2,2,1,1],[0,5,5,4,4,3,3,2,2,0]])\n",
    "vecdelta = np.array([4,2])\n",
    "P_caua = (P.T + vecdelta).T\n",
    "print(\"2.1 Tịnh tiến:\", P_caua)"
   ]
  },
  {
   "cell_type": "markdown",
   "id": "e9b61383",
   "metadata": {},
   "source": [
    "2.2 - Tịnh tiến + co giãn"
   ]
  },
  {
   "cell_type": "code",
   "execution_count": 31,
   "id": "b00ec1d6",
   "metadata": {},
   "outputs": [
    {
     "name": "stdout",
     "output_type": "stream",
     "text": [
      "2.2 Co giãn: [[ 4.  4.  7.  7.  5.  5.  6.  6.  5.  5.]\n",
      " [-2.  8.  8.  6.  6.  4.  4.  2.  2. -2.]]\n"
     ]
    }
   ],
   "source": [
    "vecdelta = np.array([4,-2])\n",
    "matran_biendoi = np.array([[1.0, 0.0], [0.0, 2.0]])\n",
    "P_caub = (P.T @ matran_biendoi + vecdelta).T\n",
    "print(\"2.2 Co giãn:\", P_caub)"
   ]
  },
  {
   "cell_type": "markdown",
   "id": "10ab6544",
   "metadata": {},
   "source": [
    "3.1 - Kiểm tra ánh xạ là tuyến tính"
   ]
  },
  {
   "cell_type": "code",
   "execution_count": 32,
   "id": "342c23cf",
   "metadata": {},
   "outputs": [
    {
     "name": "stdout",
     "output_type": "stream",
     "text": [
      "3.1 tuyến tính: True\n"
     ]
    }
   ],
   "source": [
    "x1, x2, x3 = sp.symbols('x1 x2 x3')\n",
    "a, b, c = sp.symbols('a b c')\n",
    "d, e, f = sp.symbols('d e f')\n",
    "bieuthuc1 = x1 - x2 + x3\n",
    "f1 = sp.lambdify([x1, x2, x3], bieuthuc1, 'sympy')\n",
    "print(\"3.1 tuyến tính:\", f1(a,b,c) + f1(d,e,f) == f1(a+d,b+e,c+f))"
   ]
  },
  {
   "cell_type": "markdown",
   "id": "173001cb",
   "metadata": {},
   "source": [
    "3.2 - Tìm tổ hợp tuyến tính cho ánh xạ"
   ]
  },
  {
   "cell_type": "code",
   "execution_count": 33,
   "id": "e0c449ac",
   "metadata": {},
   "outputs": [
    {
     "name": "stdout",
     "output_type": "stream",
     "text": [
      "3.2: [ 7  1 -7]\n"
     ]
    }
   ],
   "source": [
    "fu1 = np.array([1,1,2])\n",
    "fu2 = np.array([4,2,1])\n",
    "a_expr = -5\n",
    "b_expr = 3\n",
    "res = a_expr*fu1 + b_expr*fu2\n",
    "print(\"3.2:\", res)"
   ]
  },
  {
   "cell_type": "markdown",
   "id": "d5934bb4",
   "metadata": {},
   "source": [
    " 3.3 - Tìm ánh xạ tuyến tính f(x,y)"
   ]
  },
  {
   "cell_type": "code",
   "execution_count": 34,
   "id": "9bb1be29",
   "metadata": {},
   "outputs": [
    {
     "name": "stdout",
     "output_type": "stream",
     "text": [
      "3.3 nghiệm: {a: -5*x + 3*y, b: 2*x - y}\n",
      "3.3 ánh xạ: [3*x - y -x + y -8*x + 5*y]\n"
     ]
    }
   ],
   "source": [
    "a, b = sp.symbols('a b')\n",
    "x, y = sp.symbols('x y')\n",
    "sol = sp.solve([a + 3*b - x, 2*a + 5*b - y], (a, b))\n",
    "print(\"3.3 nghiệm:\", sol)\n",
    "fu = sol[a]*fu1 + sol[b]*fu2\n",
    "print(\"3.3 ánh xạ:\", fu)"
   ]
  },
  {
   "cell_type": "markdown",
   "id": "8abccb96",
   "metadata": {},
   "source": [
    "3.4 - Tìm nhân ánh xạ"
   ]
  },
  {
   "cell_type": "code",
   "execution_count": 35,
   "id": "45be8cb7",
   "metadata": {},
   "outputs": [
    {
     "name": "stdout",
     "output_type": "stream",
     "text": [
      "3.4 nhân: {x1: 2*x3, x2: -x3}\n"
     ]
    }
   ],
   "source": [
    "x1, x2, x3 = sp.symbols('x1 x2 x3')\n",
    "ker_sol = sp.solve([x1+x2-x3, 2*x1+3*x2-x3, 3*x1+5*x2-x3], (x1, x2, x3))\n",
    "print(\"3.4 nhân:\", ker_sol)"
   ]
  },
  {
   "cell_type": "markdown",
   "id": "7bcd6076",
   "metadata": {},
   "source": [
    "3.5 - Tìm ảnh ánh xạ (theo lý thuyết)"
   ]
  },
  {
   "cell_type": "code",
   "execution_count": null,
   "id": "ead99271",
   "metadata": {},
   "outputs": [],
   "source": []
  },
  {
   "cell_type": "markdown",
   "id": "c761f31b",
   "metadata": {},
   "source": [
    "3.6 - Ma trận ánh xạ trong cặp cơ sở\n",
    "Cho f(x, y) = (x - y, y), các cơ sở R và F như ví dụ"
   ]
  },
  {
   "cell_type": "code",
   "execution_count": 36,
   "id": "54be740b",
   "metadata": {},
   "outputs": [
    {
     "name": "stdout",
     "output_type": "stream",
     "text": [
      "3.6 ma trận ánh xạ trong cơ sở: [[-5.  2.]\n",
      " [ 3. -1.]]\n"
     ]
    }
   ],
   "source": [
    "R = np.array([[-1,1],[1,0]]).T\n",
    "F = np.array([[1,1],[2,3]]).T\n",
    "T_u1 = np.array([-2,-1])\n",
    "T_u2 = np.array([1,1])\n",
    "M = np.column_stack((np.linalg.solve(F.T, T_u1), np.linalg.solve(F.T, T_u2)))\n",
    "print(\"3.6 ma trận ánh xạ trong cơ sở:\", M)"
   ]
  },
  {
   "cell_type": "markdown",
   "id": "0c7d7b9c",
   "metadata": {},
   "source": [
    "4 - Biến đổi conic và xoay trục"
   ]
  },
  {
   "cell_type": "code",
   "execution_count": 37,
   "id": "8f6fdeb9",
   "metadata": {},
   "outputs": [
    {
     "name": "stdout",
     "output_type": "stream",
     "text": [
      "4.1 Góc xoay: -141.371669411541/pi\n",
      "4.2 Phương trình sau xoay:\n",
      "    2               2             \n",
      "8⋅xₛ  + 16⋅xₛ + 2⋅yₛ  + 12⋅yₛ + 18\n"
     ]
    }
   ],
   "source": [
    "from sympy import sqrt, atan2, pi\n",
    "\n",
    "A, B, C = 5, -6, 5\n",
    "theta_2 = atan2(B, A - C) / 2\n",
    "theta_deg = theta_2.evalf() * 180 / pi\n",
    "print(\"4.1 Góc xoay:\", theta_deg)\n",
    "\n",
    "cos_n = 1/sqrt(2)\n",
    "sin_n = 1/sqrt(2)\n",
    "R = sp.Matrix([[cos_n, -sin_n], [sin_n, cos_n]])\n",
    "x_s, y_s = sp.symbols('x_s y_s')\n",
    "x, y = R.T @ sp.Matrix([x_s, y_s])\n",
    "expr = 5*x**2 - 6*x*y + 5*y**2 + 14*sqrt(2)*x - 2*sqrt(2)*y + 18\n",
    "expr_new = expr.expand().simplify()\n",
    "print(\"4.2 Phương trình sau xoay:\")\n",
    "sp.pprint(expr_new)\n"
   ]
  },
  {
   "cell_type": "markdown",
   "id": "e45e2f5f",
   "metadata": {},
   "source": [
    "BÀI TẬP CHƯƠNG 8"
   ]
  },
  {
   "cell_type": "markdown",
   "id": "97111a10",
   "metadata": {},
   "source": [
    "Bài tập 1: Vector"
   ]
  },
  {
   "cell_type": "code",
   "execution_count": 38,
   "id": "2b3ea9e5",
   "metadata": {},
   "outputs": [
    {
     "name": "stdout",
     "output_type": "stream",
     "text": [
      "Bài 1.a: [ 18 -11   9  -8]\n",
      "Bài 1.b: [ 9.  -5.5  4.5 -4. ]\n"
     ]
    }
   ],
   "source": [
    "import numpy as np\n",
    "\n",
    "u = np.array([2,-1,5,0])\n",
    "v = np.array([4,3,1,-1])\n",
    "w = np.array([-6,2,0,3])\n",
    "\n",
    "x = 2*u - (v + 3*w)\n",
    "print(\"Bài 1.a:\", x)\n",
    "\n",
    "x = 0.5*(2*u - v - 3*w)\n",
    "print(\"Bài 1.b:\", x)\n"
   ]
  },
  {
   "cell_type": "markdown",
   "id": "8a83dbbb",
   "metadata": {},
   "source": [
    "Bài tập 2: Tổ hợp tuyến tính"
   ]
  },
  {
   "cell_type": "code",
   "execution_count": 39,
   "id": "63680c68",
   "metadata": {},
   "outputs": [
    {
     "name": "stdout",
     "output_type": "stream",
     "text": [
      "Bài 2: [ 1. -2. -1.]\n"
     ]
    }
   ],
   "source": [
    "from numpy import linalg\n",
    "import numpy as np\n",
    "\n",
    "A = np.array([[0, -1, 3],[1, 1, 1],[4, 2, 2]])\n",
    "B = np.array([-1, -2, -2])\n",
    "\n",
    "X = linalg.solve(A, B)\n",
    "print(\"Bài 2:\", X)\n"
   ]
  },
  {
   "cell_type": "markdown",
   "id": "5f7676a6",
   "metadata": {},
   "source": [
    "Bài tập 3: Ma trận không khả nghịch không là không gian con"
   ]
  },
  {
   "cell_type": "code",
   "execution_count": 40,
   "id": "a2280cc5",
   "metadata": {},
   "outputs": [
    {
     "name": "stdout",
     "output_type": "stream",
     "text": [
      "det A: 0.0\n",
      "det B: 0.0\n",
      "det A+B: 1.0\n",
      "inv(A): Singular matrix\n",
      "inv(B): Singular matrix\n",
      "inv(A+B): [[1. 0.]\n",
      " [0. 1.]]\n"
     ]
    }
   ],
   "source": [
    "import numpy as np\n",
    "from numpy.linalg import inv, det\n",
    "\n",
    "A = np.matrix([[1, 0], [0, 0]])\n",
    "B = np.matrix([[0, 0], [0, 1]])\n",
    "\n",
    "print(\"det A:\", det(A))  # 0\n",
    "print(\"det B:\", det(B))  # 0\n",
    "print(\"det A+B:\", det(A+B))  # 1 ≠ 0 → khả nghịch\n",
    "\n",
    "try:\n",
    "    inv_A = inv(A)\n",
    "except Exception as e:\n",
    "    print(\"inv(A):\", e)\n",
    "\n",
    "try:\n",
    "    inv_B = inv(B)\n",
    "except Exception as e:\n",
    "    print(\"inv(B):\", e)\n",
    "\n",
    "print(\"inv(A+B):\", inv(A+B))\n"
   ]
  },
  {
   "cell_type": "markdown",
   "id": "736acd58",
   "metadata": {},
   "source": [
    "Bài tập 4: Ma trận đối xứng tạo thành không gian con"
   ]
  },
  {
   "cell_type": "code",
   "execution_count": 41,
   "id": "1e9c9853",
   "metadata": {},
   "outputs": [
    {
     "name": "stdout",
     "output_type": "stream",
     "text": [
      "True\n"
     ]
    }
   ],
   "source": [
    "import sympy as sp\n",
    "x, y = sp.symbols('x y')\n",
    "A = sp.Matrix([[x, y], [y, x]])\n",
    "c = sp.symbols('c')\n",
    "\n",
    "print((c*A).T == c*A)  # True\n"
   ]
  },
  {
   "cell_type": "markdown",
   "id": "45c13a1f",
   "metadata": {},
   "source": [
    "Bài tập 5: Tổ hợp tuyến tính"
   ]
  },
  {
   "cell_type": "code",
   "execution_count": 42,
   "id": "172a6a0d",
   "metadata": {},
   "outputs": [
    {
     "name": "stdout",
     "output_type": "stream",
     "text": [
      "Bài 5.a: {a: c + 1, b: -2*c - 1}\n",
      "Bài 5.b: []\n",
      "{c1: u1/2 + u2/2, c2: u1/2 - u2/2}\n",
      "{c1: 0, c2: 0}\n"
     ]
    }
   ],
   "source": [
    "a, b, c = sp.symbols('a b c')\n",
    "v1 = sp.Matrix([1, 2, 3])\n",
    "v2 = sp.Matrix([0, 1, 2])\n",
    "v3 = sp.Matrix([-1, 0, 1])\n",
    "x = sp.Matrix([1, 1, 1])\n",
    "\n",
    "eqs = a*v1 + b*v2 + c*v3 - x\n",
    "sol = sp.solve(eqs, (a, b, c))\n",
    "print(\"Bài 5.a:\", sol)\n",
    "\n",
    "x = sp.Matrix([1, -2, 2])\n",
    "eqs = a*v1 + b*v2 + c*v3 - x\n",
    "sol = sp.solve(eqs, (a, b, c))\n",
    "print(\"Bài 5.b:\", sol)\n",
    "\n",
    "c1, c2 = sp.symbols('c1 c2')\n",
    "u1, u2 = sp.symbols('u1 u2')\n",
    "\n",
    "# Tổng quát\n",
    "print(sp.solve([c1 + c2 - u1, c1 - c2 - u2], (c1, c2)))\n",
    "\n",
    "# Kiểm tra với (u1, u2) = (0, 0)\n",
    "print(sp.solve([c1 + c2, c1 - c2], (c1, c2)))\n"
   ]
  }
 ],
 "metadata": {
  "kernelspec": {
   "display_name": "Python 3",
   "language": "python",
   "name": "python3"
  },
  "language_info": {
   "codemirror_mode": {
    "name": "ipython",
    "version": 3
   },
   "file_extension": ".py",
   "mimetype": "text/x-python",
   "name": "python",
   "nbconvert_exporter": "python",
   "pygments_lexer": "ipython3",
   "version": "3.11.9"
  }
 },
 "nbformat": 4,
 "nbformat_minor": 5
}
